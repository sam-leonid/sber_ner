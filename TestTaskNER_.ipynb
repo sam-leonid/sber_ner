{
  "nbformat": 4,
  "nbformat_minor": 0,
  "metadata": {
    "colab": {
      "name": "TestTaskNER .ipynb",
      "provenance": []
    },
    "kernelspec": {
      "name": "python3",
      "display_name": "Python 3"
    },
    "language_info": {
      "name": "python"
    },
    "accelerator": "GPU",
    "widgets": {
      "application/vnd.jupyter.widget-state+json": {
        "a034adeca2304e0791bb908669611ffd": {
          "model_module": "@jupyter-widgets/controls",
          "model_name": "HBoxModel",
          "state": {
            "_view_name": "HBoxView",
            "_dom_classes": [],
            "_model_name": "HBoxModel",
            "_view_module": "@jupyter-widgets/controls",
            "_model_module_version": "1.5.0",
            "_view_count": null,
            "_view_module_version": "1.5.0",
            "box_style": "",
            "layout": "IPY_MODEL_5353c462ad9e4810b44689684a934f28",
            "_model_module": "@jupyter-widgets/controls",
            "children": [
              "IPY_MODEL_eec5f71120104055a9f0df8b8c1ae45c",
              "IPY_MODEL_fa51097265954679af43ace555e601ae"
            ]
          }
        },
        "5353c462ad9e4810b44689684a934f28": {
          "model_module": "@jupyter-widgets/base",
          "model_name": "LayoutModel",
          "state": {
            "_view_name": "LayoutView",
            "grid_template_rows": null,
            "right": null,
            "justify_content": null,
            "_view_module": "@jupyter-widgets/base",
            "overflow": null,
            "_model_module_version": "1.2.0",
            "_view_count": null,
            "flex_flow": null,
            "width": null,
            "min_width": null,
            "border": null,
            "align_items": null,
            "bottom": null,
            "_model_module": "@jupyter-widgets/base",
            "top": null,
            "grid_column": null,
            "overflow_y": null,
            "overflow_x": null,
            "grid_auto_flow": null,
            "grid_area": null,
            "grid_template_columns": null,
            "flex": null,
            "_model_name": "LayoutModel",
            "justify_items": null,
            "grid_row": null,
            "max_height": null,
            "align_content": null,
            "visibility": null,
            "align_self": null,
            "height": null,
            "min_height": null,
            "padding": null,
            "grid_auto_rows": null,
            "grid_gap": null,
            "max_width": null,
            "order": null,
            "_view_module_version": "1.2.0",
            "grid_template_areas": null,
            "object_position": null,
            "object_fit": null,
            "grid_auto_columns": null,
            "margin": null,
            "display": null,
            "left": null
          }
        },
        "eec5f71120104055a9f0df8b8c1ae45c": {
          "model_module": "@jupyter-widgets/controls",
          "model_name": "FloatProgressModel",
          "state": {
            "_view_name": "ProgressView",
            "style": "IPY_MODEL_245a17b172494c6e9e2fc1a1819ec635",
            "_dom_classes": [],
            "description": "Downloading: 100%",
            "_model_name": "FloatProgressModel",
            "bar_style": "success",
            "max": 877,
            "_view_module": "@jupyter-widgets/controls",
            "_model_module_version": "1.5.0",
            "value": 877,
            "_view_count": null,
            "_view_module_version": "1.5.0",
            "orientation": "horizontal",
            "min": 0,
            "description_tooltip": null,
            "_model_module": "@jupyter-widgets/controls",
            "layout": "IPY_MODEL_35e716a4107e4015873420de79c040b1"
          }
        },
        "fa51097265954679af43ace555e601ae": {
          "model_module": "@jupyter-widgets/controls",
          "model_name": "HTMLModel",
          "state": {
            "_view_name": "HTMLView",
            "style": "IPY_MODEL_c0c0705ce2bf4abf8f9f89d323144bcf",
            "_dom_classes": [],
            "description": "",
            "_model_name": "HTMLModel",
            "placeholder": "​",
            "_view_module": "@jupyter-widgets/controls",
            "_model_module_version": "1.5.0",
            "value": " 877/877 [00:00&lt;00:00, 1.39kB/s]",
            "_view_count": null,
            "_view_module_version": "1.5.0",
            "description_tooltip": null,
            "_model_module": "@jupyter-widgets/controls",
            "layout": "IPY_MODEL_8b9740721fab4022ba4279e1ee051be6"
          }
        },
        "245a17b172494c6e9e2fc1a1819ec635": {
          "model_module": "@jupyter-widgets/controls",
          "model_name": "ProgressStyleModel",
          "state": {
            "_view_name": "StyleView",
            "_model_name": "ProgressStyleModel",
            "description_width": "initial",
            "_view_module": "@jupyter-widgets/base",
            "_model_module_version": "1.5.0",
            "_view_count": null,
            "_view_module_version": "1.2.0",
            "bar_color": null,
            "_model_module": "@jupyter-widgets/controls"
          }
        },
        "35e716a4107e4015873420de79c040b1": {
          "model_module": "@jupyter-widgets/base",
          "model_name": "LayoutModel",
          "state": {
            "_view_name": "LayoutView",
            "grid_template_rows": null,
            "right": null,
            "justify_content": null,
            "_view_module": "@jupyter-widgets/base",
            "overflow": null,
            "_model_module_version": "1.2.0",
            "_view_count": null,
            "flex_flow": null,
            "width": null,
            "min_width": null,
            "border": null,
            "align_items": null,
            "bottom": null,
            "_model_module": "@jupyter-widgets/base",
            "top": null,
            "grid_column": null,
            "overflow_y": null,
            "overflow_x": null,
            "grid_auto_flow": null,
            "grid_area": null,
            "grid_template_columns": null,
            "flex": null,
            "_model_name": "LayoutModel",
            "justify_items": null,
            "grid_row": null,
            "max_height": null,
            "align_content": null,
            "visibility": null,
            "align_self": null,
            "height": null,
            "min_height": null,
            "padding": null,
            "grid_auto_rows": null,
            "grid_gap": null,
            "max_width": null,
            "order": null,
            "_view_module_version": "1.2.0",
            "grid_template_areas": null,
            "object_position": null,
            "object_fit": null,
            "grid_auto_columns": null,
            "margin": null,
            "display": null,
            "left": null
          }
        },
        "c0c0705ce2bf4abf8f9f89d323144bcf": {
          "model_module": "@jupyter-widgets/controls",
          "model_name": "DescriptionStyleModel",
          "state": {
            "_view_name": "StyleView",
            "_model_name": "DescriptionStyleModel",
            "description_width": "",
            "_view_module": "@jupyter-widgets/base",
            "_model_module_version": "1.5.0",
            "_view_count": null,
            "_view_module_version": "1.2.0",
            "_model_module": "@jupyter-widgets/controls"
          }
        },
        "8b9740721fab4022ba4279e1ee051be6": {
          "model_module": "@jupyter-widgets/base",
          "model_name": "LayoutModel",
          "state": {
            "_view_name": "LayoutView",
            "grid_template_rows": null,
            "right": null,
            "justify_content": null,
            "_view_module": "@jupyter-widgets/base",
            "overflow": null,
            "_model_module_version": "1.2.0",
            "_view_count": null,
            "flex_flow": null,
            "width": null,
            "min_width": null,
            "border": null,
            "align_items": null,
            "bottom": null,
            "_model_module": "@jupyter-widgets/base",
            "top": null,
            "grid_column": null,
            "overflow_y": null,
            "overflow_x": null,
            "grid_auto_flow": null,
            "grid_area": null,
            "grid_template_columns": null,
            "flex": null,
            "_model_name": "LayoutModel",
            "justify_items": null,
            "grid_row": null,
            "max_height": null,
            "align_content": null,
            "visibility": null,
            "align_self": null,
            "height": null,
            "min_height": null,
            "padding": null,
            "grid_auto_rows": null,
            "grid_gap": null,
            "max_width": null,
            "order": null,
            "_view_module_version": "1.2.0",
            "grid_template_areas": null,
            "object_position": null,
            "object_fit": null,
            "grid_auto_columns": null,
            "margin": null,
            "display": null,
            "left": null
          }
        },
        "e3e0cf3eaf1247749fec2e2a3be813ae": {
          "model_module": "@jupyter-widgets/controls",
          "model_name": "HBoxModel",
          "state": {
            "_view_name": "HBoxView",
            "_dom_classes": [],
            "_model_name": "HBoxModel",
            "_view_module": "@jupyter-widgets/controls",
            "_model_module_version": "1.5.0",
            "_view_count": null,
            "_view_module_version": "1.5.0",
            "box_style": "",
            "layout": "IPY_MODEL_2e3647580b4d4bb48f47bd5233756383",
            "_model_module": "@jupyter-widgets/controls",
            "children": [
              "IPY_MODEL_18d5080f10be4d9d8497ce8b79bee129",
              "IPY_MODEL_6ec7a02dbd904cc4bb31d6ee2e640a24"
            ]
          }
        },
        "2e3647580b4d4bb48f47bd5233756383": {
          "model_module": "@jupyter-widgets/base",
          "model_name": "LayoutModel",
          "state": {
            "_view_name": "LayoutView",
            "grid_template_rows": null,
            "right": null,
            "justify_content": null,
            "_view_module": "@jupyter-widgets/base",
            "overflow": null,
            "_model_module_version": "1.2.0",
            "_view_count": null,
            "flex_flow": null,
            "width": null,
            "min_width": null,
            "border": null,
            "align_items": null,
            "bottom": null,
            "_model_module": "@jupyter-widgets/base",
            "top": null,
            "grid_column": null,
            "overflow_y": null,
            "overflow_x": null,
            "grid_auto_flow": null,
            "grid_area": null,
            "grid_template_columns": null,
            "flex": null,
            "_model_name": "LayoutModel",
            "justify_items": null,
            "grid_row": null,
            "max_height": null,
            "align_content": null,
            "visibility": null,
            "align_self": null,
            "height": null,
            "min_height": null,
            "padding": null,
            "grid_auto_rows": null,
            "grid_gap": null,
            "max_width": null,
            "order": null,
            "_view_module_version": "1.2.0",
            "grid_template_areas": null,
            "object_position": null,
            "object_fit": null,
            "grid_auto_columns": null,
            "margin": null,
            "display": null,
            "left": null
          }
        },
        "18d5080f10be4d9d8497ce8b79bee129": {
          "model_module": "@jupyter-widgets/controls",
          "model_name": "FloatProgressModel",
          "state": {
            "_view_name": "ProgressView",
            "style": "IPY_MODEL_27f86d9b999840cebf56ce3cfb1df6c2",
            "_dom_classes": [],
            "description": "Downloading: 100%",
            "_model_name": "FloatProgressModel",
            "bar_style": "success",
            "max": 2239184431,
            "_view_module": "@jupyter-widgets/controls",
            "_model_module_version": "1.5.0",
            "value": 2239184431,
            "_view_count": null,
            "_view_module_version": "1.5.0",
            "orientation": "horizontal",
            "min": 0,
            "description_tooltip": null,
            "_model_module": "@jupyter-widgets/controls",
            "layout": "IPY_MODEL_f6b015dda78e425f8d2e2709460d4edc"
          }
        },
        "6ec7a02dbd904cc4bb31d6ee2e640a24": {
          "model_module": "@jupyter-widgets/controls",
          "model_name": "HTMLModel",
          "state": {
            "_view_name": "HTMLView",
            "style": "IPY_MODEL_c14cb997d523473493a60a6430784c28",
            "_dom_classes": [],
            "description": "",
            "_model_name": "HTMLModel",
            "placeholder": "​",
            "_view_module": "@jupyter-widgets/controls",
            "_model_module_version": "1.5.0",
            "value": " 2.24G/2.24G [01:34&lt;00:00, 23.7MB/s]",
            "_view_count": null,
            "_view_module_version": "1.5.0",
            "description_tooltip": null,
            "_model_module": "@jupyter-widgets/controls",
            "layout": "IPY_MODEL_ee70a6ba5933497e937bdfc7288f901c"
          }
        },
        "27f86d9b999840cebf56ce3cfb1df6c2": {
          "model_module": "@jupyter-widgets/controls",
          "model_name": "ProgressStyleModel",
          "state": {
            "_view_name": "StyleView",
            "_model_name": "ProgressStyleModel",
            "description_width": "initial",
            "_view_module": "@jupyter-widgets/base",
            "_model_module_version": "1.5.0",
            "_view_count": null,
            "_view_module_version": "1.2.0",
            "bar_color": null,
            "_model_module": "@jupyter-widgets/controls"
          }
        },
        "f6b015dda78e425f8d2e2709460d4edc": {
          "model_module": "@jupyter-widgets/base",
          "model_name": "LayoutModel",
          "state": {
            "_view_name": "LayoutView",
            "grid_template_rows": null,
            "right": null,
            "justify_content": null,
            "_view_module": "@jupyter-widgets/base",
            "overflow": null,
            "_model_module_version": "1.2.0",
            "_view_count": null,
            "flex_flow": null,
            "width": null,
            "min_width": null,
            "border": null,
            "align_items": null,
            "bottom": null,
            "_model_module": "@jupyter-widgets/base",
            "top": null,
            "grid_column": null,
            "overflow_y": null,
            "overflow_x": null,
            "grid_auto_flow": null,
            "grid_area": null,
            "grid_template_columns": null,
            "flex": null,
            "_model_name": "LayoutModel",
            "justify_items": null,
            "grid_row": null,
            "max_height": null,
            "align_content": null,
            "visibility": null,
            "align_self": null,
            "height": null,
            "min_height": null,
            "padding": null,
            "grid_auto_rows": null,
            "grid_gap": null,
            "max_width": null,
            "order": null,
            "_view_module_version": "1.2.0",
            "grid_template_areas": null,
            "object_position": null,
            "object_fit": null,
            "grid_auto_columns": null,
            "margin": null,
            "display": null,
            "left": null
          }
        },
        "c14cb997d523473493a60a6430784c28": {
          "model_module": "@jupyter-widgets/controls",
          "model_name": "DescriptionStyleModel",
          "state": {
            "_view_name": "StyleView",
            "_model_name": "DescriptionStyleModel",
            "description_width": "",
            "_view_module": "@jupyter-widgets/base",
            "_model_module_version": "1.5.0",
            "_view_count": null,
            "_view_module_version": "1.2.0",
            "_model_module": "@jupyter-widgets/controls"
          }
        },
        "ee70a6ba5933497e937bdfc7288f901c": {
          "model_module": "@jupyter-widgets/base",
          "model_name": "LayoutModel",
          "state": {
            "_view_name": "LayoutView",
            "grid_template_rows": null,
            "right": null,
            "justify_content": null,
            "_view_module": "@jupyter-widgets/base",
            "overflow": null,
            "_model_module_version": "1.2.0",
            "_view_count": null,
            "flex_flow": null,
            "width": null,
            "min_width": null,
            "border": null,
            "align_items": null,
            "bottom": null,
            "_model_module": "@jupyter-widgets/base",
            "top": null,
            "grid_column": null,
            "overflow_y": null,
            "overflow_x": null,
            "grid_auto_flow": null,
            "grid_area": null,
            "grid_template_columns": null,
            "flex": null,
            "_model_name": "LayoutModel",
            "justify_items": null,
            "grid_row": null,
            "max_height": null,
            "align_content": null,
            "visibility": null,
            "align_self": null,
            "height": null,
            "min_height": null,
            "padding": null,
            "grid_auto_rows": null,
            "grid_gap": null,
            "max_width": null,
            "order": null,
            "_view_module_version": "1.2.0",
            "grid_template_areas": null,
            "object_position": null,
            "object_fit": null,
            "grid_auto_columns": null,
            "margin": null,
            "display": null,
            "left": null
          }
        },
        "7575cc7628fc432189cfab2f80ab6057": {
          "model_module": "@jupyter-widgets/controls",
          "model_name": "HBoxModel",
          "state": {
            "_view_name": "HBoxView",
            "_dom_classes": [],
            "_model_name": "HBoxModel",
            "_view_module": "@jupyter-widgets/controls",
            "_model_module_version": "1.5.0",
            "_view_count": null,
            "_view_module_version": "1.5.0",
            "box_style": "",
            "layout": "IPY_MODEL_059644d1bd04457a80cb2a9351895012",
            "_model_module": "@jupyter-widgets/controls",
            "children": [
              "IPY_MODEL_5c32f4a043894a56ac7411693a81fe1c",
              "IPY_MODEL_8fbb26ea3c6f46d4a351dfaf18f6f321"
            ]
          }
        },
        "059644d1bd04457a80cb2a9351895012": {
          "model_module": "@jupyter-widgets/base",
          "model_name": "LayoutModel",
          "state": {
            "_view_name": "LayoutView",
            "grid_template_rows": null,
            "right": null,
            "justify_content": null,
            "_view_module": "@jupyter-widgets/base",
            "overflow": null,
            "_model_module_version": "1.2.0",
            "_view_count": null,
            "flex_flow": null,
            "width": null,
            "min_width": null,
            "border": null,
            "align_items": null,
            "bottom": null,
            "_model_module": "@jupyter-widgets/base",
            "top": null,
            "grid_column": null,
            "overflow_y": null,
            "overflow_x": null,
            "grid_auto_flow": null,
            "grid_area": null,
            "grid_template_columns": null,
            "flex": null,
            "_model_name": "LayoutModel",
            "justify_items": null,
            "grid_row": null,
            "max_height": null,
            "align_content": null,
            "visibility": null,
            "align_self": null,
            "height": null,
            "min_height": null,
            "padding": null,
            "grid_auto_rows": null,
            "grid_gap": null,
            "max_width": null,
            "order": null,
            "_view_module_version": "1.2.0",
            "grid_template_areas": null,
            "object_position": null,
            "object_fit": null,
            "grid_auto_columns": null,
            "margin": null,
            "display": null,
            "left": null
          }
        },
        "5c32f4a043894a56ac7411693a81fe1c": {
          "model_module": "@jupyter-widgets/controls",
          "model_name": "FloatProgressModel",
          "state": {
            "_view_name": "ProgressView",
            "style": "IPY_MODEL_1c71d158ca764ba18d5243b8475a9883",
            "_dom_classes": [],
            "description": "Downloading: 100%",
            "_model_name": "FloatProgressModel",
            "bar_style": "success",
            "max": 898822,
            "_view_module": "@jupyter-widgets/controls",
            "_model_module_version": "1.5.0",
            "value": 898822,
            "_view_count": null,
            "_view_module_version": "1.5.0",
            "orientation": "horizontal",
            "min": 0,
            "description_tooltip": null,
            "_model_module": "@jupyter-widgets/controls",
            "layout": "IPY_MODEL_9906afe379404e829e09af2fb591917b"
          }
        },
        "8fbb26ea3c6f46d4a351dfaf18f6f321": {
          "model_module": "@jupyter-widgets/controls",
          "model_name": "HTMLModel",
          "state": {
            "_view_name": "HTMLView",
            "style": "IPY_MODEL_95046dd3f97f49dfbcc59dd3c5b0ee8f",
            "_dom_classes": [],
            "description": "",
            "_model_name": "HTMLModel",
            "placeholder": "​",
            "_view_module": "@jupyter-widgets/controls",
            "_model_module_version": "1.5.0",
            "value": " 899k/899k [00:00&lt;00:00, 1.09MB/s]",
            "_view_count": null,
            "_view_module_version": "1.5.0",
            "description_tooltip": null,
            "_model_module": "@jupyter-widgets/controls",
            "layout": "IPY_MODEL_b47cf4dd7a6a4b1d954c1dd006eea04d"
          }
        },
        "1c71d158ca764ba18d5243b8475a9883": {
          "model_module": "@jupyter-widgets/controls",
          "model_name": "ProgressStyleModel",
          "state": {
            "_view_name": "StyleView",
            "_model_name": "ProgressStyleModel",
            "description_width": "initial",
            "_view_module": "@jupyter-widgets/base",
            "_model_module_version": "1.5.0",
            "_view_count": null,
            "_view_module_version": "1.2.0",
            "bar_color": null,
            "_model_module": "@jupyter-widgets/controls"
          }
        },
        "9906afe379404e829e09af2fb591917b": {
          "model_module": "@jupyter-widgets/base",
          "model_name": "LayoutModel",
          "state": {
            "_view_name": "LayoutView",
            "grid_template_rows": null,
            "right": null,
            "justify_content": null,
            "_view_module": "@jupyter-widgets/base",
            "overflow": null,
            "_model_module_version": "1.2.0",
            "_view_count": null,
            "flex_flow": null,
            "width": null,
            "min_width": null,
            "border": null,
            "align_items": null,
            "bottom": null,
            "_model_module": "@jupyter-widgets/base",
            "top": null,
            "grid_column": null,
            "overflow_y": null,
            "overflow_x": null,
            "grid_auto_flow": null,
            "grid_area": null,
            "grid_template_columns": null,
            "flex": null,
            "_model_name": "LayoutModel",
            "justify_items": null,
            "grid_row": null,
            "max_height": null,
            "align_content": null,
            "visibility": null,
            "align_self": null,
            "height": null,
            "min_height": null,
            "padding": null,
            "grid_auto_rows": null,
            "grid_gap": null,
            "max_width": null,
            "order": null,
            "_view_module_version": "1.2.0",
            "grid_template_areas": null,
            "object_position": null,
            "object_fit": null,
            "grid_auto_columns": null,
            "margin": null,
            "display": null,
            "left": null
          }
        },
        "95046dd3f97f49dfbcc59dd3c5b0ee8f": {
          "model_module": "@jupyter-widgets/controls",
          "model_name": "DescriptionStyleModel",
          "state": {
            "_view_name": "StyleView",
            "_model_name": "DescriptionStyleModel",
            "description_width": "",
            "_view_module": "@jupyter-widgets/base",
            "_model_module_version": "1.5.0",
            "_view_count": null,
            "_view_module_version": "1.2.0",
            "_model_module": "@jupyter-widgets/controls"
          }
        },
        "b47cf4dd7a6a4b1d954c1dd006eea04d": {
          "model_module": "@jupyter-widgets/base",
          "model_name": "LayoutModel",
          "state": {
            "_view_name": "LayoutView",
            "grid_template_rows": null,
            "right": null,
            "justify_content": null,
            "_view_module": "@jupyter-widgets/base",
            "overflow": null,
            "_model_module_version": "1.2.0",
            "_view_count": null,
            "flex_flow": null,
            "width": null,
            "min_width": null,
            "border": null,
            "align_items": null,
            "bottom": null,
            "_model_module": "@jupyter-widgets/base",
            "top": null,
            "grid_column": null,
            "overflow_y": null,
            "overflow_x": null,
            "grid_auto_flow": null,
            "grid_area": null,
            "grid_template_columns": null,
            "flex": null,
            "_model_name": "LayoutModel",
            "justify_items": null,
            "grid_row": null,
            "max_height": null,
            "align_content": null,
            "visibility": null,
            "align_self": null,
            "height": null,
            "min_height": null,
            "padding": null,
            "grid_auto_rows": null,
            "grid_gap": null,
            "max_width": null,
            "order": null,
            "_view_module_version": "1.2.0",
            "grid_template_areas": null,
            "object_position": null,
            "object_fit": null,
            "grid_auto_columns": null,
            "margin": null,
            "display": null,
            "left": null
          }
        },
        "aa4f371882694441a89c7606721f7f2e": {
          "model_module": "@jupyter-widgets/controls",
          "model_name": "HBoxModel",
          "state": {
            "_view_name": "HBoxView",
            "_dom_classes": [],
            "_model_name": "HBoxModel",
            "_view_module": "@jupyter-widgets/controls",
            "_model_module_version": "1.5.0",
            "_view_count": null,
            "_view_module_version": "1.5.0",
            "box_style": "",
            "layout": "IPY_MODEL_cb6ec0f7fdbb43cb9fec9c7a65f3b7fb",
            "_model_module": "@jupyter-widgets/controls",
            "children": [
              "IPY_MODEL_b24beb5d35dc4c31b4b573e5950acb2e",
              "IPY_MODEL_304fed72ca544de998c1d02120f83296"
            ]
          }
        },
        "cb6ec0f7fdbb43cb9fec9c7a65f3b7fb": {
          "model_module": "@jupyter-widgets/base",
          "model_name": "LayoutModel",
          "state": {
            "_view_name": "LayoutView",
            "grid_template_rows": null,
            "right": null,
            "justify_content": null,
            "_view_module": "@jupyter-widgets/base",
            "overflow": null,
            "_model_module_version": "1.2.0",
            "_view_count": null,
            "flex_flow": null,
            "width": null,
            "min_width": null,
            "border": null,
            "align_items": null,
            "bottom": null,
            "_model_module": "@jupyter-widgets/base",
            "top": null,
            "grid_column": null,
            "overflow_y": null,
            "overflow_x": null,
            "grid_auto_flow": null,
            "grid_area": null,
            "grid_template_columns": null,
            "flex": null,
            "_model_name": "LayoutModel",
            "justify_items": null,
            "grid_row": null,
            "max_height": null,
            "align_content": null,
            "visibility": null,
            "align_self": null,
            "height": null,
            "min_height": null,
            "padding": null,
            "grid_auto_rows": null,
            "grid_gap": null,
            "max_width": null,
            "order": null,
            "_view_module_version": "1.2.0",
            "grid_template_areas": null,
            "object_position": null,
            "object_fit": null,
            "grid_auto_columns": null,
            "margin": null,
            "display": null,
            "left": null
          }
        },
        "b24beb5d35dc4c31b4b573e5950acb2e": {
          "model_module": "@jupyter-widgets/controls",
          "model_name": "FloatProgressModel",
          "state": {
            "_view_name": "ProgressView",
            "style": "IPY_MODEL_dd5fd3a4ce7b49fdaf721f0f13e21179",
            "_dom_classes": [],
            "description": "Downloading: 100%",
            "_model_name": "FloatProgressModel",
            "bar_style": "success",
            "max": 456318,
            "_view_module": "@jupyter-widgets/controls",
            "_model_module_version": "1.5.0",
            "value": 456318,
            "_view_count": null,
            "_view_module_version": "1.5.0",
            "orientation": "horizontal",
            "min": 0,
            "description_tooltip": null,
            "_model_module": "@jupyter-widgets/controls",
            "layout": "IPY_MODEL_71244a38ee1a45c5b04e3485b5b3ee1f"
          }
        },
        "304fed72ca544de998c1d02120f83296": {
          "model_module": "@jupyter-widgets/controls",
          "model_name": "HTMLModel",
          "state": {
            "_view_name": "HTMLView",
            "style": "IPY_MODEL_71621da126094c899f8e6a210bb181a1",
            "_dom_classes": [],
            "description": "",
            "_model_name": "HTMLModel",
            "placeholder": "​",
            "_view_module": "@jupyter-widgets/controls",
            "_model_module_version": "1.5.0",
            "value": " 456k/456k [00:03&lt;00:00, 147kB/s]",
            "_view_count": null,
            "_view_module_version": "1.5.0",
            "description_tooltip": null,
            "_model_module": "@jupyter-widgets/controls",
            "layout": "IPY_MODEL_c640c9a5cf054853aa0842f3defa9239"
          }
        },
        "dd5fd3a4ce7b49fdaf721f0f13e21179": {
          "model_module": "@jupyter-widgets/controls",
          "model_name": "ProgressStyleModel",
          "state": {
            "_view_name": "StyleView",
            "_model_name": "ProgressStyleModel",
            "description_width": "initial",
            "_view_module": "@jupyter-widgets/base",
            "_model_module_version": "1.5.0",
            "_view_count": null,
            "_view_module_version": "1.2.0",
            "bar_color": null,
            "_model_module": "@jupyter-widgets/controls"
          }
        },
        "71244a38ee1a45c5b04e3485b5b3ee1f": {
          "model_module": "@jupyter-widgets/base",
          "model_name": "LayoutModel",
          "state": {
            "_view_name": "LayoutView",
            "grid_template_rows": null,
            "right": null,
            "justify_content": null,
            "_view_module": "@jupyter-widgets/base",
            "overflow": null,
            "_model_module_version": "1.2.0",
            "_view_count": null,
            "flex_flow": null,
            "width": null,
            "min_width": null,
            "border": null,
            "align_items": null,
            "bottom": null,
            "_model_module": "@jupyter-widgets/base",
            "top": null,
            "grid_column": null,
            "overflow_y": null,
            "overflow_x": null,
            "grid_auto_flow": null,
            "grid_area": null,
            "grid_template_columns": null,
            "flex": null,
            "_model_name": "LayoutModel",
            "justify_items": null,
            "grid_row": null,
            "max_height": null,
            "align_content": null,
            "visibility": null,
            "align_self": null,
            "height": null,
            "min_height": null,
            "padding": null,
            "grid_auto_rows": null,
            "grid_gap": null,
            "max_width": null,
            "order": null,
            "_view_module_version": "1.2.0",
            "grid_template_areas": null,
            "object_position": null,
            "object_fit": null,
            "grid_auto_columns": null,
            "margin": null,
            "display": null,
            "left": null
          }
        },
        "71621da126094c899f8e6a210bb181a1": {
          "model_module": "@jupyter-widgets/controls",
          "model_name": "DescriptionStyleModel",
          "state": {
            "_view_name": "StyleView",
            "_model_name": "DescriptionStyleModel",
            "description_width": "",
            "_view_module": "@jupyter-widgets/base",
            "_model_module_version": "1.5.0",
            "_view_count": null,
            "_view_module_version": "1.2.0",
            "_model_module": "@jupyter-widgets/controls"
          }
        },
        "c640c9a5cf054853aa0842f3defa9239": {
          "model_module": "@jupyter-widgets/base",
          "model_name": "LayoutModel",
          "state": {
            "_view_name": "LayoutView",
            "grid_template_rows": null,
            "right": null,
            "justify_content": null,
            "_view_module": "@jupyter-widgets/base",
            "overflow": null,
            "_model_module_version": "1.2.0",
            "_view_count": null,
            "flex_flow": null,
            "width": null,
            "min_width": null,
            "border": null,
            "align_items": null,
            "bottom": null,
            "_model_module": "@jupyter-widgets/base",
            "top": null,
            "grid_column": null,
            "overflow_y": null,
            "overflow_x": null,
            "grid_auto_flow": null,
            "grid_area": null,
            "grid_template_columns": null,
            "flex": null,
            "_model_name": "LayoutModel",
            "justify_items": null,
            "grid_row": null,
            "max_height": null,
            "align_content": null,
            "visibility": null,
            "align_self": null,
            "height": null,
            "min_height": null,
            "padding": null,
            "grid_auto_rows": null,
            "grid_gap": null,
            "max_width": null,
            "order": null,
            "_view_module_version": "1.2.0",
            "grid_template_areas": null,
            "object_position": null,
            "object_fit": null,
            "grid_auto_columns": null,
            "margin": null,
            "display": null,
            "left": null
          }
        },
        "a34276a5effc412b806c339bac1ec808": {
          "model_module": "@jupyter-widgets/controls",
          "model_name": "HBoxModel",
          "state": {
            "_view_name": "HBoxView",
            "_dom_classes": [],
            "_model_name": "HBoxModel",
            "_view_module": "@jupyter-widgets/controls",
            "_model_module_version": "1.5.0",
            "_view_count": null,
            "_view_module_version": "1.5.0",
            "box_style": "",
            "layout": "IPY_MODEL_1776184a865549f79d4dcb29d0e7ee66",
            "_model_module": "@jupyter-widgets/controls",
            "children": [
              "IPY_MODEL_f43a743993e1415baf716663ecd350d4",
              "IPY_MODEL_51f65428d186446794dfaf80daa4a34a"
            ]
          }
        },
        "1776184a865549f79d4dcb29d0e7ee66": {
          "model_module": "@jupyter-widgets/base",
          "model_name": "LayoutModel",
          "state": {
            "_view_name": "LayoutView",
            "grid_template_rows": null,
            "right": null,
            "justify_content": null,
            "_view_module": "@jupyter-widgets/base",
            "overflow": null,
            "_model_module_version": "1.2.0",
            "_view_count": null,
            "flex_flow": null,
            "width": null,
            "min_width": null,
            "border": null,
            "align_items": null,
            "bottom": null,
            "_model_module": "@jupyter-widgets/base",
            "top": null,
            "grid_column": null,
            "overflow_y": null,
            "overflow_x": null,
            "grid_auto_flow": null,
            "grid_area": null,
            "grid_template_columns": null,
            "flex": null,
            "_model_name": "LayoutModel",
            "justify_items": null,
            "grid_row": null,
            "max_height": null,
            "align_content": null,
            "visibility": null,
            "align_self": null,
            "height": null,
            "min_height": null,
            "padding": null,
            "grid_auto_rows": null,
            "grid_gap": null,
            "max_width": null,
            "order": null,
            "_view_module_version": "1.2.0",
            "grid_template_areas": null,
            "object_position": null,
            "object_fit": null,
            "grid_auto_columns": null,
            "margin": null,
            "display": null,
            "left": null
          }
        },
        "f43a743993e1415baf716663ecd350d4": {
          "model_module": "@jupyter-widgets/controls",
          "model_name": "FloatProgressModel",
          "state": {
            "_view_name": "ProgressView",
            "style": "IPY_MODEL_bc7cf5f9c8ec4b70954e7fcf53cb6f20",
            "_dom_classes": [],
            "description": "Downloading: 100%",
            "_model_name": "FloatProgressModel",
            "bar_style": "success",
            "max": 15287192,
            "_view_module": "@jupyter-widgets/controls",
            "_model_module_version": "1.5.0",
            "value": 15287192,
            "_view_count": null,
            "_view_module_version": "1.5.0",
            "orientation": "horizontal",
            "min": 0,
            "description_tooltip": null,
            "_model_module": "@jupyter-widgets/controls",
            "layout": "IPY_MODEL_26032bcbf4034b09ab2ecbfb7f4a9bfd"
          }
        },
        "51f65428d186446794dfaf80daa4a34a": {
          "model_module": "@jupyter-widgets/controls",
          "model_name": "HTMLModel",
          "state": {
            "_view_name": "HTMLView",
            "style": "IPY_MODEL_5a4202412a9147d68cc60ef91f6c345b",
            "_dom_classes": [],
            "description": "",
            "_model_name": "HTMLModel",
            "placeholder": "​",
            "_view_module": "@jupyter-widgets/controls",
            "_model_module_version": "1.5.0",
            "value": " 15.3M/15.3M [00:01&lt;00:00, 12.2MB/s]",
            "_view_count": null,
            "_view_module_version": "1.5.0",
            "description_tooltip": null,
            "_model_module": "@jupyter-widgets/controls",
            "layout": "IPY_MODEL_0d90a8a11c884534ae10c7f467e4b65e"
          }
        },
        "bc7cf5f9c8ec4b70954e7fcf53cb6f20": {
          "model_module": "@jupyter-widgets/controls",
          "model_name": "ProgressStyleModel",
          "state": {
            "_view_name": "StyleView",
            "_model_name": "ProgressStyleModel",
            "description_width": "initial",
            "_view_module": "@jupyter-widgets/base",
            "_model_module_version": "1.5.0",
            "_view_count": null,
            "_view_module_version": "1.2.0",
            "bar_color": null,
            "_model_module": "@jupyter-widgets/controls"
          }
        },
        "26032bcbf4034b09ab2ecbfb7f4a9bfd": {
          "model_module": "@jupyter-widgets/base",
          "model_name": "LayoutModel",
          "state": {
            "_view_name": "LayoutView",
            "grid_template_rows": null,
            "right": null,
            "justify_content": null,
            "_view_module": "@jupyter-widgets/base",
            "overflow": null,
            "_model_module_version": "1.2.0",
            "_view_count": null,
            "flex_flow": null,
            "width": null,
            "min_width": null,
            "border": null,
            "align_items": null,
            "bottom": null,
            "_model_module": "@jupyter-widgets/base",
            "top": null,
            "grid_column": null,
            "overflow_y": null,
            "overflow_x": null,
            "grid_auto_flow": null,
            "grid_area": null,
            "grid_template_columns": null,
            "flex": null,
            "_model_name": "LayoutModel",
            "justify_items": null,
            "grid_row": null,
            "max_height": null,
            "align_content": null,
            "visibility": null,
            "align_self": null,
            "height": null,
            "min_height": null,
            "padding": null,
            "grid_auto_rows": null,
            "grid_gap": null,
            "max_width": null,
            "order": null,
            "_view_module_version": "1.2.0",
            "grid_template_areas": null,
            "object_position": null,
            "object_fit": null,
            "grid_auto_columns": null,
            "margin": null,
            "display": null,
            "left": null
          }
        },
        "5a4202412a9147d68cc60ef91f6c345b": {
          "model_module": "@jupyter-widgets/controls",
          "model_name": "DescriptionStyleModel",
          "state": {
            "_view_name": "StyleView",
            "_model_name": "DescriptionStyleModel",
            "description_width": "",
            "_view_module": "@jupyter-widgets/base",
            "_model_module_version": "1.5.0",
            "_view_count": null,
            "_view_module_version": "1.2.0",
            "_model_module": "@jupyter-widgets/controls"
          }
        },
        "0d90a8a11c884534ae10c7f467e4b65e": {
          "model_module": "@jupyter-widgets/base",
          "model_name": "LayoutModel",
          "state": {
            "_view_name": "LayoutView",
            "grid_template_rows": null,
            "right": null,
            "justify_content": null,
            "_view_module": "@jupyter-widgets/base",
            "overflow": null,
            "_model_module_version": "1.2.0",
            "_view_count": null,
            "flex_flow": null,
            "width": null,
            "min_width": null,
            "border": null,
            "align_items": null,
            "bottom": null,
            "_model_module": "@jupyter-widgets/base",
            "top": null,
            "grid_column": null,
            "overflow_y": null,
            "overflow_x": null,
            "grid_auto_flow": null,
            "grid_area": null,
            "grid_template_columns": null,
            "flex": null,
            "_model_name": "LayoutModel",
            "justify_items": null,
            "grid_row": null,
            "max_height": null,
            "align_content": null,
            "visibility": null,
            "align_self": null,
            "height": null,
            "min_height": null,
            "padding": null,
            "grid_auto_rows": null,
            "grid_gap": null,
            "max_width": null,
            "order": null,
            "_view_module_version": "1.2.0",
            "grid_template_areas": null,
            "object_position": null,
            "object_fit": null,
            "grid_auto_columns": null,
            "margin": null,
            "display": null,
            "left": null
          }
        },
        "88912e48eeb3448583361af6a55ea943": {
          "model_module": "@jupyter-widgets/controls",
          "model_name": "HBoxModel",
          "state": {
            "_view_name": "HBoxView",
            "_dom_classes": [],
            "_model_name": "HBoxModel",
            "_view_module": "@jupyter-widgets/controls",
            "_model_module_version": "1.5.0",
            "_view_count": null,
            "_view_module_version": "1.5.0",
            "box_style": "",
            "layout": "IPY_MODEL_482d6e6c726b45d5bf7ab0c7007f18af",
            "_model_module": "@jupyter-widgets/controls",
            "children": [
              "IPY_MODEL_d91da1a621d545f790771b63794dde7f",
              "IPY_MODEL_797850feab504582b2331aaca7c4e912"
            ]
          }
        },
        "482d6e6c726b45d5bf7ab0c7007f18af": {
          "model_module": "@jupyter-widgets/base",
          "model_name": "LayoutModel",
          "state": {
            "_view_name": "LayoutView",
            "grid_template_rows": null,
            "right": null,
            "justify_content": null,
            "_view_module": "@jupyter-widgets/base",
            "overflow": null,
            "_model_module_version": "1.2.0",
            "_view_count": null,
            "flex_flow": null,
            "width": null,
            "min_width": null,
            "border": null,
            "align_items": null,
            "bottom": null,
            "_model_module": "@jupyter-widgets/base",
            "top": null,
            "grid_column": null,
            "overflow_y": null,
            "overflow_x": null,
            "grid_auto_flow": null,
            "grid_area": null,
            "grid_template_columns": null,
            "flex": null,
            "_model_name": "LayoutModel",
            "justify_items": null,
            "grid_row": null,
            "max_height": null,
            "align_content": null,
            "visibility": null,
            "align_self": null,
            "height": null,
            "min_height": null,
            "padding": null,
            "grid_auto_rows": null,
            "grid_gap": null,
            "max_width": null,
            "order": null,
            "_view_module_version": "1.2.0",
            "grid_template_areas": null,
            "object_position": null,
            "object_fit": null,
            "grid_auto_columns": null,
            "margin": null,
            "display": null,
            "left": null
          }
        },
        "d91da1a621d545f790771b63794dde7f": {
          "model_module": "@jupyter-widgets/controls",
          "model_name": "FloatProgressModel",
          "state": {
            "_view_name": "ProgressView",
            "style": "IPY_MODEL_3cd0bd87f5e84864985e0cf8be1c1879",
            "_dom_classes": [],
            "description": "Downloading: 100%",
            "_model_name": "FloatProgressModel",
            "bar_style": "success",
            "max": 33,
            "_view_module": "@jupyter-widgets/controls",
            "_model_module_version": "1.5.0",
            "value": 33,
            "_view_count": null,
            "_view_module_version": "1.5.0",
            "orientation": "horizontal",
            "min": 0,
            "description_tooltip": null,
            "_model_module": "@jupyter-widgets/controls",
            "layout": "IPY_MODEL_4e6344a339e74ac6af6646a7279b4e25"
          }
        },
        "797850feab504582b2331aaca7c4e912": {
          "model_module": "@jupyter-widgets/controls",
          "model_name": "HTMLModel",
          "state": {
            "_view_name": "HTMLView",
            "style": "IPY_MODEL_cf2ac642122d46b49a36da9a76a96067",
            "_dom_classes": [],
            "description": "",
            "_model_name": "HTMLModel",
            "placeholder": "​",
            "_view_module": "@jupyter-widgets/controls",
            "_model_module_version": "1.5.0",
            "value": " 33.0/33.0 [00:00&lt;00:00, 68.4B/s]",
            "_view_count": null,
            "_view_module_version": "1.5.0",
            "description_tooltip": null,
            "_model_module": "@jupyter-widgets/controls",
            "layout": "IPY_MODEL_bf23c737d0bc474f8e12ea0bd5938b72"
          }
        },
        "3cd0bd87f5e84864985e0cf8be1c1879": {
          "model_module": "@jupyter-widgets/controls",
          "model_name": "ProgressStyleModel",
          "state": {
            "_view_name": "StyleView",
            "_model_name": "ProgressStyleModel",
            "description_width": "initial",
            "_view_module": "@jupyter-widgets/base",
            "_model_module_version": "1.5.0",
            "_view_count": null,
            "_view_module_version": "1.2.0",
            "bar_color": null,
            "_model_module": "@jupyter-widgets/controls"
          }
        },
        "4e6344a339e74ac6af6646a7279b4e25": {
          "model_module": "@jupyter-widgets/base",
          "model_name": "LayoutModel",
          "state": {
            "_view_name": "LayoutView",
            "grid_template_rows": null,
            "right": null,
            "justify_content": null,
            "_view_module": "@jupyter-widgets/base",
            "overflow": null,
            "_model_module_version": "1.2.0",
            "_view_count": null,
            "flex_flow": null,
            "width": null,
            "min_width": null,
            "border": null,
            "align_items": null,
            "bottom": null,
            "_model_module": "@jupyter-widgets/base",
            "top": null,
            "grid_column": null,
            "overflow_y": null,
            "overflow_x": null,
            "grid_auto_flow": null,
            "grid_area": null,
            "grid_template_columns": null,
            "flex": null,
            "_model_name": "LayoutModel",
            "justify_items": null,
            "grid_row": null,
            "max_height": null,
            "align_content": null,
            "visibility": null,
            "align_self": null,
            "height": null,
            "min_height": null,
            "padding": null,
            "grid_auto_rows": null,
            "grid_gap": null,
            "max_width": null,
            "order": null,
            "_view_module_version": "1.2.0",
            "grid_template_areas": null,
            "object_position": null,
            "object_fit": null,
            "grid_auto_columns": null,
            "margin": null,
            "display": null,
            "left": null
          }
        },
        "cf2ac642122d46b49a36da9a76a96067": {
          "model_module": "@jupyter-widgets/controls",
          "model_name": "DescriptionStyleModel",
          "state": {
            "_view_name": "StyleView",
            "_model_name": "DescriptionStyleModel",
            "description_width": "",
            "_view_module": "@jupyter-widgets/base",
            "_model_module_version": "1.5.0",
            "_view_count": null,
            "_view_module_version": "1.2.0",
            "_model_module": "@jupyter-widgets/controls"
          }
        },
        "bf23c737d0bc474f8e12ea0bd5938b72": {
          "model_module": "@jupyter-widgets/base",
          "model_name": "LayoutModel",
          "state": {
            "_view_name": "LayoutView",
            "grid_template_rows": null,
            "right": null,
            "justify_content": null,
            "_view_module": "@jupyter-widgets/base",
            "overflow": null,
            "_model_module_version": "1.2.0",
            "_view_count": null,
            "flex_flow": null,
            "width": null,
            "min_width": null,
            "border": null,
            "align_items": null,
            "bottom": null,
            "_model_module": "@jupyter-widgets/base",
            "top": null,
            "grid_column": null,
            "overflow_y": null,
            "overflow_x": null,
            "grid_auto_flow": null,
            "grid_area": null,
            "grid_template_columns": null,
            "flex": null,
            "_model_name": "LayoutModel",
            "justify_items": null,
            "grid_row": null,
            "max_height": null,
            "align_content": null,
            "visibility": null,
            "align_self": null,
            "height": null,
            "min_height": null,
            "padding": null,
            "grid_auto_rows": null,
            "grid_gap": null,
            "max_width": null,
            "order": null,
            "_view_module_version": "1.2.0",
            "grid_template_areas": null,
            "object_position": null,
            "object_fit": null,
            "grid_auto_columns": null,
            "margin": null,
            "display": null,
            "left": null
          }
        },
        "d96380294548410b843f6f66d44c4746": {
          "model_module": "@jupyter-widgets/controls",
          "model_name": "HBoxModel",
          "state": {
            "_view_name": "HBoxView",
            "_dom_classes": [],
            "_model_name": "HBoxModel",
            "_view_module": "@jupyter-widgets/controls",
            "_model_module_version": "1.5.0",
            "_view_count": null,
            "_view_module_version": "1.5.0",
            "box_style": "",
            "layout": "IPY_MODEL_f5e288b8df494cd2b3119e9f38fe7c05",
            "_model_module": "@jupyter-widgets/controls",
            "children": [
              "IPY_MODEL_a19aeb02db3749c199f4b4db10b19572",
              "IPY_MODEL_3dd7b6e6a3aa4e6e8c2ef3957d94876a"
            ]
          }
        },
        "f5e288b8df494cd2b3119e9f38fe7c05": {
          "model_module": "@jupyter-widgets/base",
          "model_name": "LayoutModel",
          "state": {
            "_view_name": "LayoutView",
            "grid_template_rows": null,
            "right": null,
            "justify_content": null,
            "_view_module": "@jupyter-widgets/base",
            "overflow": null,
            "_model_module_version": "1.2.0",
            "_view_count": null,
            "flex_flow": null,
            "width": null,
            "min_width": null,
            "border": null,
            "align_items": null,
            "bottom": null,
            "_model_module": "@jupyter-widgets/base",
            "top": null,
            "grid_column": null,
            "overflow_y": null,
            "overflow_x": null,
            "grid_auto_flow": null,
            "grid_area": null,
            "grid_template_columns": null,
            "flex": null,
            "_model_name": "LayoutModel",
            "justify_items": null,
            "grid_row": null,
            "max_height": null,
            "align_content": null,
            "visibility": null,
            "align_self": null,
            "height": null,
            "min_height": null,
            "padding": null,
            "grid_auto_rows": null,
            "grid_gap": null,
            "max_width": null,
            "order": null,
            "_view_module_version": "1.2.0",
            "grid_template_areas": null,
            "object_position": null,
            "object_fit": null,
            "grid_auto_columns": null,
            "margin": null,
            "display": null,
            "left": null
          }
        },
        "a19aeb02db3749c199f4b4db10b19572": {
          "model_module": "@jupyter-widgets/controls",
          "model_name": "FloatProgressModel",
          "state": {
            "_view_name": "ProgressView",
            "style": "IPY_MODEL_ef0b9b2090984b34bf456edfe19d6887",
            "_dom_classes": [],
            "description": "Downloading: 100%",
            "_model_name": "FloatProgressModel",
            "bar_style": "success",
            "max": 1000,
            "_view_module": "@jupyter-widgets/controls",
            "_model_module_version": "1.5.0",
            "value": 1000,
            "_view_count": null,
            "_view_module_version": "1.5.0",
            "orientation": "horizontal",
            "min": 0,
            "description_tooltip": null,
            "_model_module": "@jupyter-widgets/controls",
            "layout": "IPY_MODEL_a639bafebb0b42ca89bb7a3cdbbaf117"
          }
        },
        "3dd7b6e6a3aa4e6e8c2ef3957d94876a": {
          "model_module": "@jupyter-widgets/controls",
          "model_name": "HTMLModel",
          "state": {
            "_view_name": "HTMLView",
            "style": "IPY_MODEL_a53752d98b214184b971677767d211a0",
            "_dom_classes": [],
            "description": "",
            "_model_name": "HTMLModel",
            "placeholder": "​",
            "_view_module": "@jupyter-widgets/controls",
            "_model_module_version": "1.5.0",
            "value": " 1.00k/1.00k [00:00&lt;00:00, 1.31kB/s]",
            "_view_count": null,
            "_view_module_version": "1.5.0",
            "description_tooltip": null,
            "_model_module": "@jupyter-widgets/controls",
            "layout": "IPY_MODEL_55484f7cfa994d8993ee9e0d3bc8c896"
          }
        },
        "ef0b9b2090984b34bf456edfe19d6887": {
          "model_module": "@jupyter-widgets/controls",
          "model_name": "ProgressStyleModel",
          "state": {
            "_view_name": "StyleView",
            "_model_name": "ProgressStyleModel",
            "description_width": "initial",
            "_view_module": "@jupyter-widgets/base",
            "_model_module_version": "1.5.0",
            "_view_count": null,
            "_view_module_version": "1.2.0",
            "bar_color": null,
            "_model_module": "@jupyter-widgets/controls"
          }
        },
        "a639bafebb0b42ca89bb7a3cdbbaf117": {
          "model_module": "@jupyter-widgets/base",
          "model_name": "LayoutModel",
          "state": {
            "_view_name": "LayoutView",
            "grid_template_rows": null,
            "right": null,
            "justify_content": null,
            "_view_module": "@jupyter-widgets/base",
            "overflow": null,
            "_model_module_version": "1.2.0",
            "_view_count": null,
            "flex_flow": null,
            "width": null,
            "min_width": null,
            "border": null,
            "align_items": null,
            "bottom": null,
            "_model_module": "@jupyter-widgets/base",
            "top": null,
            "grid_column": null,
            "overflow_y": null,
            "overflow_x": null,
            "grid_auto_flow": null,
            "grid_area": null,
            "grid_template_columns": null,
            "flex": null,
            "_model_name": "LayoutModel",
            "justify_items": null,
            "grid_row": null,
            "max_height": null,
            "align_content": null,
            "visibility": null,
            "align_self": null,
            "height": null,
            "min_height": null,
            "padding": null,
            "grid_auto_rows": null,
            "grid_gap": null,
            "max_width": null,
            "order": null,
            "_view_module_version": "1.2.0",
            "grid_template_areas": null,
            "object_position": null,
            "object_fit": null,
            "grid_auto_columns": null,
            "margin": null,
            "display": null,
            "left": null
          }
        },
        "a53752d98b214184b971677767d211a0": {
          "model_module": "@jupyter-widgets/controls",
          "model_name": "DescriptionStyleModel",
          "state": {
            "_view_name": "StyleView",
            "_model_name": "DescriptionStyleModel",
            "description_width": "",
            "_view_module": "@jupyter-widgets/base",
            "_model_module_version": "1.5.0",
            "_view_count": null,
            "_view_module_version": "1.2.0",
            "_model_module": "@jupyter-widgets/controls"
          }
        },
        "55484f7cfa994d8993ee9e0d3bc8c896": {
          "model_module": "@jupyter-widgets/base",
          "model_name": "LayoutModel",
          "state": {
            "_view_name": "LayoutView",
            "grid_template_rows": null,
            "right": null,
            "justify_content": null,
            "_view_module": "@jupyter-widgets/base",
            "overflow": null,
            "_model_module_version": "1.2.0",
            "_view_count": null,
            "flex_flow": null,
            "width": null,
            "min_width": null,
            "border": null,
            "align_items": null,
            "bottom": null,
            "_model_module": "@jupyter-widgets/base",
            "top": null,
            "grid_column": null,
            "overflow_y": null,
            "overflow_x": null,
            "grid_auto_flow": null,
            "grid_area": null,
            "grid_template_columns": null,
            "flex": null,
            "_model_name": "LayoutModel",
            "justify_items": null,
            "grid_row": null,
            "max_height": null,
            "align_content": null,
            "visibility": null,
            "align_self": null,
            "height": null,
            "min_height": null,
            "padding": null,
            "grid_auto_rows": null,
            "grid_gap": null,
            "max_width": null,
            "order": null,
            "_view_module_version": "1.2.0",
            "grid_template_areas": null,
            "object_position": null,
            "object_fit": null,
            "grid_auto_columns": null,
            "margin": null,
            "display": null,
            "left": null
          }
        },
        "649df03fac444d2b9f489669b0f733be": {
          "model_module": "@jupyter-widgets/controls",
          "model_name": "HBoxModel",
          "state": {
            "_view_name": "HBoxView",
            "_dom_classes": [],
            "_model_name": "HBoxModel",
            "_view_module": "@jupyter-widgets/controls",
            "_model_module_version": "1.5.0",
            "_view_count": null,
            "_view_module_version": "1.5.0",
            "box_style": "",
            "layout": "IPY_MODEL_3a474aa1e3544fc1875e6a4f14feabfe",
            "_model_module": "@jupyter-widgets/controls",
            "children": [
              "IPY_MODEL_66bfc7aeb16748b0a770a71597ad9949",
              "IPY_MODEL_99c51eb6002a403dbcc29f67f72da483"
            ]
          }
        },
        "3a474aa1e3544fc1875e6a4f14feabfe": {
          "model_module": "@jupyter-widgets/base",
          "model_name": "LayoutModel",
          "state": {
            "_view_name": "LayoutView",
            "grid_template_rows": null,
            "right": null,
            "justify_content": null,
            "_view_module": "@jupyter-widgets/base",
            "overflow": null,
            "_model_module_version": "1.2.0",
            "_view_count": null,
            "flex_flow": null,
            "width": null,
            "min_width": null,
            "border": null,
            "align_items": null,
            "bottom": null,
            "_model_module": "@jupyter-widgets/base",
            "top": null,
            "grid_column": null,
            "overflow_y": null,
            "overflow_x": null,
            "grid_auto_flow": null,
            "grid_area": null,
            "grid_template_columns": null,
            "flex": null,
            "_model_name": "LayoutModel",
            "justify_items": null,
            "grid_row": null,
            "max_height": null,
            "align_content": null,
            "visibility": null,
            "align_self": null,
            "height": null,
            "min_height": null,
            "padding": null,
            "grid_auto_rows": null,
            "grid_gap": null,
            "max_width": null,
            "order": null,
            "_view_module_version": "1.2.0",
            "grid_template_areas": null,
            "object_position": null,
            "object_fit": null,
            "grid_auto_columns": null,
            "margin": null,
            "display": null,
            "left": null
          }
        },
        "66bfc7aeb16748b0a770a71597ad9949": {
          "model_module": "@jupyter-widgets/controls",
          "model_name": "FloatProgressModel",
          "state": {
            "_view_name": "ProgressView",
            "style": "IPY_MODEL_280960dd5efb471d8ef936853d72b97b",
            "_dom_classes": [],
            "description": "Downloading: 100%",
            "_model_name": "FloatProgressModel",
            "bar_style": "success",
            "max": 1695,
            "_view_module": "@jupyter-widgets/controls",
            "_model_module_version": "1.5.0",
            "value": 1695,
            "_view_count": null,
            "_view_module_version": "1.5.0",
            "orientation": "horizontal",
            "min": 0,
            "description_tooltip": null,
            "_model_module": "@jupyter-widgets/controls",
            "layout": "IPY_MODEL_dfa70f0060a54988927a64f8a0adaeaf"
          }
        },
        "99c51eb6002a403dbcc29f67f72da483": {
          "model_module": "@jupyter-widgets/controls",
          "model_name": "HTMLModel",
          "state": {
            "_view_name": "HTMLView",
            "style": "IPY_MODEL_9a3473067f56474eb01bb2f5fbae94e0",
            "_dom_classes": [],
            "description": "",
            "_model_name": "HTMLModel",
            "placeholder": "​",
            "_view_module": "@jupyter-widgets/controls",
            "_model_module_version": "1.5.0",
            "value": " 1.70k/1.70k [00:00&lt;00:00, 5.58kB/s]",
            "_view_count": null,
            "_view_module_version": "1.5.0",
            "description_tooltip": null,
            "_model_module": "@jupyter-widgets/controls",
            "layout": "IPY_MODEL_637cdaae1d624ef09752c2148df76626"
          }
        },
        "280960dd5efb471d8ef936853d72b97b": {
          "model_module": "@jupyter-widgets/controls",
          "model_name": "ProgressStyleModel",
          "state": {
            "_view_name": "StyleView",
            "_model_name": "ProgressStyleModel",
            "description_width": "initial",
            "_view_module": "@jupyter-widgets/base",
            "_model_module_version": "1.5.0",
            "_view_count": null,
            "_view_module_version": "1.2.0",
            "bar_color": null,
            "_model_module": "@jupyter-widgets/controls"
          }
        },
        "dfa70f0060a54988927a64f8a0adaeaf": {
          "model_module": "@jupyter-widgets/base",
          "model_name": "LayoutModel",
          "state": {
            "_view_name": "LayoutView",
            "grid_template_rows": null,
            "right": null,
            "justify_content": null,
            "_view_module": "@jupyter-widgets/base",
            "overflow": null,
            "_model_module_version": "1.2.0",
            "_view_count": null,
            "flex_flow": null,
            "width": null,
            "min_width": null,
            "border": null,
            "align_items": null,
            "bottom": null,
            "_model_module": "@jupyter-widgets/base",
            "top": null,
            "grid_column": null,
            "overflow_y": null,
            "overflow_x": null,
            "grid_auto_flow": null,
            "grid_area": null,
            "grid_template_columns": null,
            "flex": null,
            "_model_name": "LayoutModel",
            "justify_items": null,
            "grid_row": null,
            "max_height": null,
            "align_content": null,
            "visibility": null,
            "align_self": null,
            "height": null,
            "min_height": null,
            "padding": null,
            "grid_auto_rows": null,
            "grid_gap": null,
            "max_width": null,
            "order": null,
            "_view_module_version": "1.2.0",
            "grid_template_areas": null,
            "object_position": null,
            "object_fit": null,
            "grid_auto_columns": null,
            "margin": null,
            "display": null,
            "left": null
          }
        },
        "9a3473067f56474eb01bb2f5fbae94e0": {
          "model_module": "@jupyter-widgets/controls",
          "model_name": "DescriptionStyleModel",
          "state": {
            "_view_name": "StyleView",
            "_model_name": "DescriptionStyleModel",
            "description_width": "",
            "_view_module": "@jupyter-widgets/base",
            "_model_module_version": "1.5.0",
            "_view_count": null,
            "_view_module_version": "1.2.0",
            "_model_module": "@jupyter-widgets/controls"
          }
        },
        "637cdaae1d624ef09752c2148df76626": {
          "model_module": "@jupyter-widgets/base",
          "model_name": "LayoutModel",
          "state": {
            "_view_name": "LayoutView",
            "grid_template_rows": null,
            "right": null,
            "justify_content": null,
            "_view_module": "@jupyter-widgets/base",
            "overflow": null,
            "_model_module_version": "1.2.0",
            "_view_count": null,
            "flex_flow": null,
            "width": null,
            "min_width": null,
            "border": null,
            "align_items": null,
            "bottom": null,
            "_model_module": "@jupyter-widgets/base",
            "top": null,
            "grid_column": null,
            "overflow_y": null,
            "overflow_x": null,
            "grid_auto_flow": null,
            "grid_area": null,
            "grid_template_columns": null,
            "flex": null,
            "_model_name": "LayoutModel",
            "justify_items": null,
            "grid_row": null,
            "max_height": null,
            "align_content": null,
            "visibility": null,
            "align_self": null,
            "height": null,
            "min_height": null,
            "padding": null,
            "grid_auto_rows": null,
            "grid_gap": null,
            "max_width": null,
            "order": null,
            "_view_module_version": "1.2.0",
            "grid_template_areas": null,
            "object_position": null,
            "object_fit": null,
            "grid_auto_columns": null,
            "margin": null,
            "display": null,
            "left": null
          }
        }
      }
    }
  },
  "cells": [
    {
      "cell_type": "markdown",
      "metadata": {
        "id": "W3W68fXhinqH"
      },
      "source": [
        "# Тестовое задание \n",
        "\n",
        "   Ваша задача написать пайплайн для тренировки модели глубоко обучения (любую – **embeddings + LSTM, Bert** …) с использованием следующих инструментов: pytorch, sklearn, matplotlib – для решения задачи **NER** (извлечения сущностей).\n",
        "\n",
        "   В качестве данных используется датасет **Conll2003** с четырьмя классами **Per, Org, Loc, Misc** в формате **Conll**.\n",
        "\n",
        "   В тетрадке ниже заданы основные классы и функции для построения требуемого пайплайн, какие-то уже имплементированы, какие-то – нет. Их требуется доработать. Тем не менее если данный набор абстракций вам не подходит Вы можете написать свой пайплайн «с нуля», однако обоснованность у этих действий должна быть.\n",
        "\n",
        "**Что оценивается в первую очередь:**\n",
        "- Выбранная архитектура для решения задачи\n",
        "- Выбранные предобученные веса \n",
        "- Полученные метрики\n",
        "\n",
        "**Затем:**\n",
        "- Глубина разведочного анализа\n",
        "- Какая схема теггирования используется (**BIO, IO** или другие)\n",
        "- Каким образом производится расчет метрик (потокенный отчет, отчет по точному совпадению спанов сущностей)\n",
        "\n",
        "**С меньшим приоритетом:** \n",
        "- Скорость предобработки и постобработки данных \n",
        "- Стиль кода"
      ]
    },
    {
      "cell_type": "code",
      "metadata": {
        "id": "jhST4plZbEsl"
      },
      "source": [
        "import itertools\n",
        "\n",
        "import pandas as pd\n",
        "import numpy as np\n",
        "\n"
      ],
      "execution_count": 1,
      "outputs": []
    },
    {
      "cell_type": "code",
      "metadata": {
        "colab": {
          "base_uri": "https://localhost:8080/"
        },
        "id": "SiBslWvSRKH0",
        "outputId": "0eed4766-e45f-4269-e5eb-b1a06a2a6b95"
      },
      "source": [
        "!wget https://raw.githubusercontent.com/synalp/NER/master/corpus/CoNLL-2003/eng.testa\n",
        "!wget https://raw.githubusercontent.com/synalp/NER/master/corpus/CoNLL-2003/eng.train"
      ],
      "execution_count": 4,
      "outputs": [
        {
          "output_type": "stream",
          "text": [
            "--2021-05-24 13:14:15--  https://raw.githubusercontent.com/synalp/NER/master/corpus/CoNLL-2003/eng.testa\n",
            "Resolving raw.githubusercontent.com (raw.githubusercontent.com)... 185.199.108.133, 185.199.111.133, 185.199.109.133, ...\n",
            "Connecting to raw.githubusercontent.com (raw.githubusercontent.com)|185.199.108.133|:443... connected.\n",
            "HTTP request sent, awaiting response... 200 OK\n",
            "Length: 827012 (808K) [text/plain]\n",
            "Saving to: ‘eng.testa’\n",
            "\n",
            "\reng.testa             0%[                    ]       0  --.-KB/s               \reng.testa           100%[===================>] 807.63K  --.-KB/s    in 0.04s   \n",
            "\n",
            "2021-05-24 13:14:15 (21.4 MB/s) - ‘eng.testa’ saved [827012/827012]\n",
            "\n",
            "--2021-05-24 13:14:15--  https://raw.githubusercontent.com/synalp/NER/master/corpus/CoNLL-2003/eng.train\n",
            "Resolving raw.githubusercontent.com (raw.githubusercontent.com)... 185.199.108.133, 185.199.109.133, 185.199.110.133, ...\n",
            "Connecting to raw.githubusercontent.com (raw.githubusercontent.com)|185.199.108.133|:443... connected.\n",
            "HTTP request sent, awaiting response... 200 OK\n",
            "Length: 3281528 (3.1M) [text/plain]\n",
            "Saving to: ‘eng.train’\n",
            "\n",
            "eng.train           100%[===================>]   3.13M  --.-KB/s    in 0.1s    \n",
            "\n",
            "2021-05-24 13:14:16 (32.3 MB/s) - ‘eng.train’ saved [3281528/3281528]\n",
            "\n"
          ],
          "name": "stdout"
        }
      ]
    },
    {
      "cell_type": "code",
      "metadata": {
        "colab": {
          "base_uri": "https://localhost:8080/"
        },
        "id": "Zt8yjpnXR6qL",
        "outputId": "0a0d396b-257d-4941-d31e-a42886eaba41"
      },
      "source": [
        "!head -10 eng.train "
      ],
      "execution_count": 201,
      "outputs": [
        {
          "output_type": "stream",
          "text": [
            "-DOCSTART- -X- O O\n",
            "\n",
            "EU NNP I-NP I-ORG\n",
            "rejects VBZ I-VP O\n",
            "German JJ I-NP I-MISC\n",
            "call NN I-NP O\n",
            "to TO I-VP O\n",
            "boycott VB I-VP O\n",
            "British JJ I-NP I-MISC\n",
            "lamb NN I-NP O\n"
          ],
          "name": "stdout"
        }
      ]
    },
    {
      "cell_type": "code",
      "metadata": {
        "id": "61Q6EAQsXMgf"
      },
      "source": [
        "import torch\n",
        "from torch.utils.data import Dataset, DataLoader\n",
        "from torch.nn.utils import clip_grad_norm_\n",
        "from typing import List\n",
        "from collections import Counter\n",
        "import matplotlib.pyplot as plt\n",
        "from tqdm import tqdm\n",
        "from torch import nn\n",
        "from sklearn.metrics import classification_report"
      ],
      "execution_count": 31,
      "outputs": []
    },
    {
      "cell_type": "code",
      "metadata": {
        "colab": {
          "base_uri": "https://localhost:8080/"
        },
        "id": "HUVbuWYaT1YI",
        "outputId": "515307f3-fb7c-4f57-a117-56a87dc0daaa"
      },
      "source": [
        "def read_data(file):\n",
        "  lines = open(file, \"r\").readlines()\n",
        "  data = {\"sentences\": [], \"labels_per_sent\": []}\n",
        "  sentence, labels = [], []\n",
        "  for line in tqdm(lines):\n",
        "    line = line.strip()\n",
        "    if not line:\n",
        "      if sentence and labels:\n",
        "        assert len(sentence) == len(labels)\n",
        "        data[\"sentences\"].append(sentence)\n",
        "        data[\"labels_per_sent\"].append(labels)\n",
        "        sentence, labels = [], []\n",
        "      continue\n",
        "    if line.startswith(\"-DOCSTART-\"):\n",
        "      continue\n",
        "    else:\n",
        "      values = line.split(\" \")\n",
        "      try:\n",
        "        token, _, _, label = values\n",
        "        sentence.append(token)\n",
        "        if label != 'O':\n",
        "          labels.append(label.split('-')[-1])\n",
        "        else:\n",
        "          labels.append(label)\n",
        "\n",
        "      except Exception as e:\n",
        "        print(f\"Error has occur: {e}\")\n",
        "        continue\n",
        "  return data\n",
        "\n",
        "\n",
        "train = read_data(\"eng.train\")\n",
        "valid = read_data(\"eng.testa\")"
      ],
      "execution_count": null,
      "outputs": [
        {
          "output_type": "stream",
          "text": [
            "100%|██████████| 219554/219554 [00:00<00:00, 869667.58it/s]\n",
            "100%|██████████| 55045/55045 [00:00<00:00, 867023.92it/s]\n"
          ],
          "name": "stderr"
        }
      ]
    },
    {
      "cell_type": "code",
      "metadata": {
        "colab": {
          "base_uri": "https://localhost:8080/"
        },
        "id": "O1lyVFf4Uvn2",
        "outputId": "8c313ff0-be8d-4902-88ed-4a1849315589"
      },
      "source": [
        "train[\"sentences\"][0], train[\"labels_per_sent\"][0]"
      ],
      "execution_count": null,
      "outputs": [
        {
          "output_type": "execute_result",
          "data": {
            "text/plain": [
              "(['EU', 'rejects', 'German', 'call', 'to', 'boycott', 'British', 'lamb', '.'],\n",
              " ['ORG', 'O', 'MISC', 'O', 'O', 'O', 'MISC', 'O', 'O'])"
            ]
          },
          "metadata": {
            "tags": []
          },
          "execution_count": 24
        }
      ]
    },
    {
      "cell_type": "code",
      "metadata": {
        "colab": {
          "base_uri": "https://localhost:8080/"
        },
        "id": "fJDxtTCEXL-x",
        "outputId": "a5434c45-6b6f-47ab-f8e9-43f2c6e95c04"
      },
      "source": [
        "valid[\"sentences\"][0], valid[\"labels_per_sent\"][0]"
      ],
      "execution_count": null,
      "outputs": [
        {
          "output_type": "execute_result",
          "data": {
            "text/plain": [
              "(['CRICKET',\n",
              "  '-',\n",
              "  'LEICESTERSHIRE',\n",
              "  'TAKE',\n",
              "  'OVER',\n",
              "  'AT',\n",
              "  'TOP',\n",
              "  'AFTER',\n",
              "  'INNINGS',\n",
              "  'VICTORY',\n",
              "  '.'],\n",
              " ['O', 'O', 'ORG', 'O', 'O', 'O', 'O', 'O', 'O', 'O', 'O'])"
            ]
          },
          "metadata": {
            "tags": []
          },
          "execution_count": 25
        }
      ]
    },
    {
      "cell_type": "code",
      "metadata": {
        "id": "lksWDE2MZaGU"
      },
      "source": [
        "def get_label_distribution(labels: List[List[str]]):\n",
        "  labels = [label for labels_per_sent in labels for label in labels_per_sent]\n",
        "  return Counter(labels)"
      ],
      "execution_count": null,
      "outputs": []
    },
    {
      "cell_type": "code",
      "metadata": {
        "id": "QL5KBeDUan66"
      },
      "source": [
        "train_distribution = get_label_distribution(train[\"labels_per_sent\"])\n",
        "valid_distribution = get_label_distribution(valid[\"labels_per_sent\"])"
      ],
      "execution_count": null,
      "outputs": []
    },
    {
      "cell_type": "code",
      "metadata": {
        "colab": {
          "base_uri": "https://localhost:8080/",
          "height": 547
        },
        "id": "Ma7HHMQua3L8",
        "outputId": "749e2725-970f-4958-ab07-844f444292e8"
      },
      "source": [
        "def visualize_distr(data: Counter):\n",
        "  labels = list(data.keys())\n",
        "  plt.bar(x=labels, height=list(data.values()))\n",
        "  plt.show()\n",
        "\n",
        "\n",
        "print(\"Train distribution\")\n",
        "visualize_distr(train_distribution)\n",
        "print(\"Valid distribution\")\n",
        "visualize_distr(valid_distribution)"
      ],
      "execution_count": null,
      "outputs": [
        {
          "output_type": "stream",
          "text": [
            "Train distribution\n"
          ],
          "name": "stdout"
        },
        {
          "output_type": "display_data",
          "data": {
            "image/png": "[encoded data removed]",
            "text/plain": [
              "<Figure size 432x288 with 1 Axes>"
            ]
          },
          "metadata": {
            "tags": [],
            "needs_background": "light"
          }
        },
        {
          "output_type": "stream",
          "text": [
            "Valid distribution\n"
          ],
          "name": "stdout"
        },
        {
          "output_type": "display_data",
          "data": {
            "image/png": "[encoded data removed]",
            "text/plain": [
              "<Figure size 432x288 with 1 Axes>"
            ]
          },
          "metadata": {
            "tags": [],
            "needs_background": "light"
          }
        }
      ]
    },
    {
      "cell_type": "markdown",
      "metadata": {
        "id": "5YFLaLHJbx7D"
      },
      "source": [
        "### Посмотрев несколько хороших бенчмарков пришел к выводу, что для сравнительной характеристики (https://paperswithcode.com/sota/named-entity-recognition-ner-on-conll-2003) используют схему теггирования IOB1, поэтому будем использовать ее"
      ]
    },
    {
      "cell_type": "code",
      "metadata": {
        "id": "WqTCSirQ3b76"
      },
      "source": [
        "def transform(name):\n",
        "  df = pd.read_csv(name, sep=' ', comment='#')\n",
        "\n",
        "  df = df.rename(columns={'-DOCSTART-':'token', 'O.1':'tag'})\n",
        "  df['tag'] = df['tag'].astype('str')\n",
        "  df = df[df['tag'] != 'nan']\n",
        "\n",
        "  df['tag'] = [t.split('-')[1] if len(t) > 1 else 'O' for t in df['tag']]\n",
        "\n",
        "  return df[['token', 'tag']]\n"
      ],
      "execution_count": 25,
      "outputs": []
    },
    {
      "cell_type": "code",
      "metadata": {
        "colab": {
          "base_uri": "https://localhost:8080/"
        },
        "id": "thdHw3wJ33QU",
        "outputId": "4eac804f-536c-4325-befc-ce1e8a81febc"
      },
      "source": [
        "train = transform('eng.train')\n",
        "test = transform('eng.testa')\n",
        "train.shape, test.shape"
      ],
      "execution_count": 26,
      "outputs": [
        {
          "output_type": "execute_result",
          "data": {
            "text/plain": [
              "((202388, 2), (50937, 2))"
            ]
          },
          "metadata": {
            "tags": []
          },
          "execution_count": 26
        }
      ]
    },
    {
      "cell_type": "markdown",
      "metadata": {
        "id": "JE5N44xkcJzW"
      },
      "source": [
        "### Поставим в соответствие определенному тэгу соответствующую метку и создадим метку PAD - паддинги"
      ]
    },
    {
      "cell_type": "code",
      "metadata": {
        "id": "g1b8Z6QTzIXs"
      },
      "source": [
        "def build_dict(tokens_or_tags, special_tokens):\n",
        "    \"\"\"\n",
        "    tokens_or_tags: a list of lists of tokens or tags\n",
        "    special_tokens: some special tokens\n",
        "    \"\"\"\n",
        "    # Create a dictionary with default value 0    \n",
        "    # Create mappings from tokens to indices and vice versa\n",
        "    # Add special tokens to dictionaries\n",
        "    # The first special token must have index 0\n",
        "    \n",
        "\n",
        "    tokens = list(itertools.chain.from_iterable(tokens_or_tags))\n",
        "    tokens.extend(special_tokens)\n",
        "    tokens = list(set(tokens))\n",
        "    tok2idx = dict(zip(tokens, list(range(len(tokens)))))\n",
        "    idx2tok = dict(zip(list(range(len(tokens))), tokens))\n",
        "\n",
        "    return tok2idx, idx2tok"
      ],
      "execution_count": 27,
      "outputs": []
    },
    {
      "cell_type": "code",
      "metadata": {
        "id": "m3yQLZOwzJzu"
      },
      "source": [
        "train_token = [[i] for i in (list(train.token) + list(test.token))]\n",
        "train_tags = [[i] for i in list(train.tag)]\n",
        "test_token = [[i] for i in list(test.token)]\n",
        "test_tags = [[i] for i in list(test.tag)]\n",
        "\n",
        "special_tokens = ['<UNK>', '<PAD>']\n",
        "special_tags = [\"<PAD>\"]\n",
        "\n",
        "# Create dictionaries \n",
        "token2idx, idx2token = build_dict(train_token, special_tokens)\n",
        "tag2idx, idx2tag = build_dict(train_tags, special_tags)"
      ],
      "execution_count": 28,
      "outputs": []
    },
    {
      "cell_type": "code",
      "metadata": {
        "colab": {
          "base_uri": "https://localhost:8080/"
        },
        "id": "MWzCTgnT4Lge",
        "outputId": "228c192b-6f41-4daa-f50c-1e33e51d4689"
      },
      "source": [
        "idx2tag"
      ],
      "execution_count": 29,
      "outputs": [
        {
          "output_type": "execute_result",
          "data": {
            "text/plain": [
              "{0: 'ORG', 1: 'MISC', 2: '<PAD>', 3: 'O', 4: 'LOC', 5: 'PER'}"
            ]
          },
          "metadata": {
            "tags": []
          },
          "execution_count": 29
        }
      ]
    },
    {
      "cell_type": "markdown",
      "metadata": {
        "id": "dO-8PiDVrPsA"
      },
      "source": [
        "### Создание датасета и даталоадера"
      ]
    },
    {
      "cell_type": "code",
      "metadata": {
        "id": "tlO1AWxXYPVl"
      },
      "source": [
        "class NERDataset(Dataset):\n",
        "\n",
        "  def __init__(self, tokens, tags, token2idx, tag2idx):\n",
        "    tokens_idxs = [[token2idx[i] for i in j] for j in tokens]\n",
        "    tags_idxs = [[tag2idx[i] for i in j] for j in tags]\n",
        "    self.tokens_idxs = tokens_idxs\n",
        "    self.tags_idxs = tags_idxs\n",
        "\n",
        "  def __getitem__(self, index):\n",
        "    return self.tokens_idxs[index], self.tags_idxs[index]\n",
        "\n",
        "  def __len__(self):\n",
        "    return len(self.tokens_idxs)"
      ],
      "execution_count": 59,
      "outputs": []
    },
    {
      "cell_type": "code",
      "metadata": {
        "id": "7oRMRFr0c2Nb"
      },
      "source": [
        "train_dataset = NERDataset(train_token[:train.shape[0]], train_tags[:train.shape[0]], token2idx, tag2idx)\n",
        "valid_dataset = NERDataset(test_token, train_tags[:len(test_token)], token2idx, tag2idx)"
      ],
      "execution_count": 60,
      "outputs": []
    },
    {
      "cell_type": "code",
      "metadata": {
        "id": "UyMl5LiB57lp"
      },
      "source": [
        "def collate_fn(batch):\n",
        "    # преобразовывает batch к нужному формату\n",
        "    b_tokens, b_tags = zip(*batch) \n",
        "    lenghts = [len(i) for i in b_tags]\n",
        "    max_len = max(lenghts)\n",
        "    padded_b_tokens = [i + [token2idx[\"<PAD>\"]]*(max_len - len(i)) for i in b_tokens]\n",
        "    padded_b_tags = [i + [tag2idx[\"<PAD>\"]]*(max_len - len(i)) for i in b_tags]\n",
        "    x = torch.tensor(padded_b_tokens)\n",
        "    y = torch.tensor(padded_b_tags)\n",
        "    x = x.long()\n",
        "    y = y.long()\n",
        "    return x, y"
      ],
      "execution_count": 61,
      "outputs": []
    },
    {
      "cell_type": "code",
      "metadata": {
        "id": "RAbBTkC56CzB"
      },
      "source": [
        "bs = 32\n",
        "\n",
        "train_datloader = DataLoader(train_dataset, batch_size=bs, shuffle=True, collate_fn=collate_fn)\n",
        "valid_datloader = DataLoader(valid_dataset, batch_size=bs, shuffle=True, collate_fn=collate_fn)"
      ],
      "execution_count": 62,
      "outputs": []
    },
    {
      "cell_type": "markdown",
      "metadata": {
        "id": "5LZ3QtD7cn30"
      },
      "source": [
        "## Будем использовать обыкновенную biLSTM модель"
      ]
    },
    {
      "cell_type": "code",
      "metadata": {
        "id": "Kv-cKwqnde3E"
      },
      "source": [
        "class NERModel(nn.Module):\n",
        "\n",
        "  def __init__(self, vocabulary_size, n_tags, PAD_index,\n",
        "                 embedding_dim, rnn_hidden_size,\n",
        "                 dropout_zeroed_probability, bidirectional=True):\n",
        "    super(NERModel, self).__init__()\n",
        "\n",
        "    self.embeddings = nn.Embedding(vocabulary_size, embedding_dim)\n",
        "    self.dropout = nn.Dropout(dropout_zeroed_probability)\n",
        "    self.lstm = nn.LSTM(input_size=embedding_dim, hidden_size=rnn_hidden_size, \n",
        "                        bidirectional=bidirectional, batch_first=True)\n",
        "    self.hidden2label = nn.Linear(rnn_hidden_size*(1 + int(bidirectional)), n_tags)\n",
        "\n",
        "  def forward(self, x_batch):\n",
        "    x = self.embeddings(x_batch)\n",
        "    lstm_out, _ = self.lstm(x)\n",
        "    drop_out = self.dropout(lstm_out)\n",
        "    y = self.hidden2label(drop_out)\n",
        "    return y.permute(0, 2, 1)"
      ],
      "execution_count": 64,
      "outputs": []
    },
    {
      "cell_type": "code",
      "metadata": {
        "id": "__G8sNO0eGfp"
      },
      "source": [
        "device = \"cuda:0\"\n",
        "model = NERModel(len(token2idx), len(tag2idx), token2idx[\"<PAD>\"], \n",
        "                    embedding_dim=100, rnn_hidden_size=100, \n",
        "                    dropout_zeroed_probability=.7).cuda()\n",
        "model = model.to(device)"
      ],
      "execution_count": 111,
      "outputs": []
    },
    {
      "cell_type": "code",
      "metadata": {
        "id": "dwUh6qLH62TP"
      },
      "source": [
        "# необходим для обучения\n",
        "class EmptyContext:\n",
        "    def __enter__(self):\n",
        "        pass\n",
        "    def __exit__(self, type, value, traceback):\n",
        "        pass"
      ],
      "execution_count": 66,
      "outputs": []
    },
    {
      "cell_type": "code",
      "metadata": {
        "id": "b0Dc6Xay7tL8"
      },
      "source": [
        "def perform_epoch(model, train_loader, valid_loader, criterion, \n",
        "                metric=None, optimizer=None, device=None, \n",
        "                scheduler=None, max_grad_norm=None):\n",
        "    losses = []\n",
        "    is_train = optimizer is not None\n",
        "    model = model.to(device)\n",
        "    if is_train:  \n",
        "        model.train()\n",
        "    else:\n",
        "        model.eval()\n",
        "\n",
        "    total_loss = 0\n",
        "    total_acc = 0\n",
        "    total_n = 0\n",
        "    if is_train:\n",
        "      pipeline = [[train_loader, True], [valid_loader, False]]  \n",
        "    else:\n",
        "      pipeline = [[train_loader, False]]  \n",
        "\n",
        "    for loader, is_tr in pipeline:\n",
        "      is_train = is_tr\n",
        "      with EmptyContext() if is_train else torch.no_grad():\n",
        "          for batch_train, batch_answers in loader:\n",
        "              batch_train = batch_train.to(device)\n",
        "              batch_answers = batch_answers.to(device)        \n",
        "              model_answers = model(batch_train)\n",
        "              new_loss = criterion(model_answers, batch_answers)\n",
        "              if is_train:\n",
        "                optimizer.zero_grad()\n",
        "                new_loss.backward()\n",
        "                \n",
        "                if max_grad_norm is not None:\n",
        "                  clip_grad_norm_(model.parameters(), max_grad_norm)\n",
        "                optimizer.step() \n",
        "                if scheduler is not None:\n",
        "                  scheduler.step()\n",
        "              one_batch_loss = float(criterion(model_answers, batch_answers))\n",
        "              total_loss += one_batch_loss\n",
        "\n",
        "              if metric is not None:\n",
        "                one_batch_metric = metric(model_answers, batch_answers)\n",
        "                total_metric += one_batch_metric\n",
        "              total_n += 1 \n",
        "      if metric is not None:\n",
        "          losses.append(total_loss / total_n, total_metric / total_n)\n",
        "      else:\n",
        "          losses.append(total_loss / total_n)\n",
        "    return losses"
      ],
      "execution_count": 67,
      "outputs": []
    },
    {
      "cell_type": "code",
      "metadata": {
        "id": "2MGhBgno7uB3"
      },
      "source": [
        "device = torch.device('cuda' if torch.cuda.is_available() else 'cpu')\n",
        "max_grad_norm = 10.\n",
        "lr = 1e-2\n",
        "decay_rate =0.9\n",
        "num_epoches = 150"
      ],
      "execution_count": 113,
      "outputs": []
    },
    {
      "cell_type": "code",
      "metadata": {
        "id": "nPNxgwmR7vSa"
      },
      "source": [
        "loss_function = nn.CrossEntropyLoss(ignore_index=tag2idx[\"<PAD>\"])\n",
        "optimizer = torch.optim.Adam(model.parameters(), lr=lr)\n",
        "scheduler = torch.optim.lr_scheduler.ExponentialLR(optimizer, decay_rate)"
      ],
      "execution_count": 114,
      "outputs": []
    },
    {
      "cell_type": "markdown",
      "metadata": {
        "id": "jLGs2ARKIxUc"
      },
      "source": [
        "# Training with biLSTM"
      ]
    },
    {
      "cell_type": "markdown",
      "metadata": {
        "id": "ZhUzeAgIdsdZ"
      },
      "source": [
        "# С использованием схемы теггирования IOB1"
      ]
    },
    {
      "cell_type": "code",
      "metadata": {
        "colab": {
          "base_uri": "https://localhost:8080/"
        },
        "id": "1sYlLSjW82Hl",
        "outputId": "e812839b-f823-4a79-c8bd-b900510eeb68"
      },
      "source": [
        "for epoch in range(num_epoches):\n",
        "    train_loss, valid_loss = perform_epoch(model, train_datloader, valid_datloader,\n",
        "                                           loss_function, optimizer=optimizer, device=device, \n",
        "                                           max_grad_norm=max_grad_norm)\n",
        "    \n",
        "    if epoch % 20 == 0:\n",
        "        print(f\"Start epoch #{epoch}\")\n",
        "        print(f\"train loss {train_loss}\")\n",
        "        print(f\"test loss {valid_loss}\")\n",
        "        print(f\"Current learning rate: {optimizer.param_groups[0]['lr']}\")\n",
        "        print(f\"End epoch #{epoch}\")\n",
        "    scheduler.step()"
      ],
      "execution_count": 115,
      "outputs": [
        {
          "output_type": "stream",
          "text": [
            "Start epoch #0\n",
            "train loss 0.3949884207665979\n",
            "test loss 0.6872048056577974\n",
            "Current learning rate: 0.01\n",
            "End epoch #0\n",
            "Start epoch #20\n",
            "train loss 0.06904154568605526\n",
            "test loss 0.6110381716314469\n",
            "Current learning rate: 0.001215766545905694\n",
            "End epoch #20\n",
            "Start epoch #40\n",
            "train loss 0.06326711754898058\n",
            "test loss 0.5740117455596772\n",
            "Current learning rate: 0.00014780882941434616\n",
            "End epoch #40\n",
            "Start epoch #60\n",
            "train loss 0.06258754194638666\n",
            "test loss 0.5760617589057524\n",
            "Current learning rate: 1.797010299914435e-05\n",
            "End epoch #60\n",
            "Start epoch #80\n",
            "train loss 0.06205275864188519\n",
            "test loss 0.5729187223433224\n",
            "Current learning rate: 2.1847450052839273e-06\n",
            "End epoch #80\n",
            "Start epoch #100\n",
            "train loss 0.06178293450598388\n",
            "test loss 0.573702436475916\n",
            "Current learning rate: 2.6561398887587566e-07\n",
            "End epoch #100\n",
            "Start epoch #120\n",
            "train loss 0.062348402850449514\n",
            "test loss 0.5742257101644818\n",
            "Current learning rate: 3.2292460179985664e-08\n",
            "End epoch #120\n",
            "Start epoch #140\n",
            "train loss 0.062130868273774315\n",
            "test loss 0.572602778090838\n",
            "Current learning rate: 3.926009277181832e-09\n",
            "End epoch #140\n"
          ],
          "name": "stdout"
        }
      ]
    },
    {
      "cell_type": "code",
      "metadata": {
        "id": "Lh-YjukZnDEo"
      },
      "source": [
        "def eval(model, loader, device=None):\n",
        "    losses = []\n",
        "    f1_scores = []\n",
        "    is_train = optimizer is not None\n",
        "    model = model.to(device)\n",
        "    model.eval()\n",
        "    predictions = []\n",
        "    tags = []\n",
        "\n",
        "    with torch.no_grad():\n",
        "        for batch_train, batch_answers in loader:\n",
        "            batch_train = batch_train.to(device)\n",
        "            batch_answers = batch_answers.to(device)        \n",
        "            model_answers = model(batch_train)\n",
        "            predictions += torch.argmax(model_answers, axis=1)\n",
        "            tags += batch_answers\n",
        "    tags = [int(i) for i in tags]\n",
        "    predictions = [int(i) for i in predictions]\n",
        "    return tags, predictions"
      ],
      "execution_count": 116,
      "outputs": []
    },
    {
      "cell_type": "code",
      "metadata": {
        "id": "GlGeavrhsfBZ"
      },
      "source": [
        "tags, predictions = eval(model, valid_datloader, device='cpu')"
      ],
      "execution_count": 117,
      "outputs": []
    },
    {
      "cell_type": "code",
      "metadata": {
        "colab": {
          "base_uri": "https://localhost:8080/"
        },
        "id": "KU7lCGlbw7g3",
        "outputId": "917adc76-1125-44af-9b18-493e44acfafb"
      },
      "source": [
        "from sklearn.metrics import classification_report\n",
        "target_names = ['ORG', 'MISC', 'O', 'LOC', 'PER']\n",
        "print(classification_report(tags, predictions, target_names=target_names))"
      ],
      "execution_count": 118,
      "outputs": [
        {
          "output_type": "stream",
          "text": [
            "              precision    recall  f1-score   support\n",
            "\n",
            "         ORG       0.04      0.05      0.05      2068\n",
            "        MISC       0.03      0.03      0.03      1306\n",
            "           O       0.82      0.82      0.82     41866\n",
            "         LOC       0.05      0.04      0.05      2439\n",
            "         PER       0.07      0.07      0.07      3258\n",
            "\n",
            "    accuracy                           0.69     50937\n",
            "   macro avg       0.20      0.20      0.20     50937\n",
            "weighted avg       0.69      0.69      0.69     50937\n",
            "\n"
          ],
          "name": "stdout"
        }
      ]
    },
    {
      "cell_type": "markdown",
      "metadata": {
        "id": "pQv1gtUCeYmE"
      },
      "source": [
        "# LUKE"
      ]
    },
    {
      "cell_type": "markdown",
      "metadata": {
        "id": "_ZpbhUAUejaJ"
      },
      "source": [
        "### В качестве хорошего готового варианта можно использовать одно из лучших решений на бенчмарке CoNLL2003, основанное на трансформере - LUKE https://github.com/studio-ousia/luke (правда задействуется библиотека transformers)"
      ]
    },
    {
      "cell_type": "code",
      "metadata": {
        "colab": {
          "base_uri": "https://localhost:8080/"
        },
        "id": "p1hnn7y0ebF-",
        "outputId": "0faa7802-84db-42d2-ef2a-e80b24b15142"
      },
      "source": [
        "!pip install seqeval git+https://github.com/huggingface/transformers.git"
      ],
      "execution_count": 37,
      "outputs": [
        {
          "output_type": "stream",
          "text": [
            "Collecting git+https://github.com/huggingface/transformers.git\n",
            "  Cloning https://github.com/huggingface/transformers.git to /tmp/pip-req-build-3m6x60sd\n",
            "  Running command git clone -q https://github.com/huggingface/transformers.git /tmp/pip-req-build-3m6x60sd\n",
            "  Installing build dependencies ... \u001b[?25l\u001b[?25hdone\n",
            "  Getting requirements to build wheel ... \u001b[?25l\u001b[?25hdone\n",
            "    Preparing wheel metadata ... \u001b[?25l\u001b[?25hdone\n",
            "Collecting seqeval\n",
            "\u001b[?25l  Downloading https://files.pythonhosted.org/packages/9d/2d/233c79d5b4e5ab1dbf111242299153f3caddddbb691219f363ad55ce783d/seqeval-1.2.2.tar.gz (43kB)\n",
            "\u001b[K     |████████████████████████████████| 51kB 4.5MB/s \n",
            "\u001b[?25hCollecting huggingface-hub==0.0.8\n",
            "  Downloading https://files.pythonhosted.org/packages/a1/88/7b1e45720ecf59c6c6737ff332f41c955963090a18e72acbcbeac6b25e86/huggingface_hub-0.0.8-py3-none-any.whl\n",
            "Requirement already satisfied: regex!=2019.12.17 in /usr/local/lib/python3.7/dist-packages (from transformers==4.7.0.dev0) (2019.12.20)\n",
            "Requirement already satisfied: requests in /usr/local/lib/python3.7/dist-packages (from transformers==4.7.0.dev0) (2.23.0)\n",
            "Collecting tokenizers<0.11,>=0.10.1\n",
            "\u001b[?25l  Downloading https://files.pythonhosted.org/packages/ae/04/5b870f26a858552025a62f1649c20d29d2672c02ff3c3fb4c688ca46467a/tokenizers-0.10.2-cp37-cp37m-manylinux2010_x86_64.whl (3.3MB)\n",
            "\u001b[K     |████████████████████████████████| 3.3MB 17.3MB/s \n",
            "\u001b[?25hRequirement already satisfied: tqdm>=4.27 in /usr/local/lib/python3.7/dist-packages (from transformers==4.7.0.dev0) (4.41.1)\n",
            "Requirement already satisfied: importlib-metadata; python_version < \"3.8\" in /usr/local/lib/python3.7/dist-packages (from transformers==4.7.0.dev0) (4.0.1)\n",
            "Requirement already satisfied: numpy>=1.17 in /usr/local/lib/python3.7/dist-packages (from transformers==4.7.0.dev0) (1.19.5)\n",
            "Collecting sacremoses\n",
            "\u001b[?25l  Downloading https://files.pythonhosted.org/packages/75/ee/67241dc87f266093c533a2d4d3d69438e57d7a90abb216fa076e7d475d4a/sacremoses-0.0.45-py3-none-any.whl (895kB)\n",
            "\u001b[K     |████████████████████████████████| 901kB 49.5MB/s \n",
            "\u001b[?25hRequirement already satisfied: filelock in /usr/local/lib/python3.7/dist-packages (from transformers==4.7.0.dev0) (3.0.12)\n",
            "Requirement already satisfied: packaging in /usr/local/lib/python3.7/dist-packages (from transformers==4.7.0.dev0) (20.9)\n",
            "Requirement already satisfied: scikit-learn>=0.21.3 in /usr/local/lib/python3.7/dist-packages (from seqeval) (0.22.2.post1)\n",
            "Requirement already satisfied: urllib3!=1.25.0,!=1.25.1,<1.26,>=1.21.1 in /usr/local/lib/python3.7/dist-packages (from requests->transformers==4.7.0.dev0) (1.24.3)\n",
            "Requirement already satisfied: certifi>=2017.4.17 in /usr/local/lib/python3.7/dist-packages (from requests->transformers==4.7.0.dev0) (2020.12.5)\n",
            "Requirement already satisfied: chardet<4,>=3.0.2 in /usr/local/lib/python3.7/dist-packages (from requests->transformers==4.7.0.dev0) (3.0.4)\n",
            "Requirement already satisfied: idna<3,>=2.5 in /usr/local/lib/python3.7/dist-packages (from requests->transformers==4.7.0.dev0) (2.10)\n",
            "Requirement already satisfied: typing-extensions>=3.6.4; python_version < \"3.8\" in /usr/local/lib/python3.7/dist-packages (from importlib-metadata; python_version < \"3.8\"->transformers==4.7.0.dev0) (3.7.4.3)\n",
            "Requirement already satisfied: zipp>=0.5 in /usr/local/lib/python3.7/dist-packages (from importlib-metadata; python_version < \"3.8\"->transformers==4.7.0.dev0) (3.4.1)\n",
            "Requirement already satisfied: click in /usr/local/lib/python3.7/dist-packages (from sacremoses->transformers==4.7.0.dev0) (8.0.0)\n",
            "Requirement already satisfied: six in /usr/local/lib/python3.7/dist-packages (from sacremoses->transformers==4.7.0.dev0) (1.15.0)\n",
            "Requirement already satisfied: joblib in /usr/local/lib/python3.7/dist-packages (from sacremoses->transformers==4.7.0.dev0) (1.0.1)\n",
            "Requirement already satisfied: pyparsing>=2.0.2 in /usr/local/lib/python3.7/dist-packages (from packaging->transformers==4.7.0.dev0) (2.4.7)\n",
            "Requirement already satisfied: scipy>=0.17.0 in /usr/local/lib/python3.7/dist-packages (from scikit-learn>=0.21.3->seqeval) (1.4.1)\n",
            "Building wheels for collected packages: transformers\n",
            "  Building wheel for transformers (PEP 517) ... \u001b[?25l\u001b[?25hdone\n",
            "  Created wheel for transformers: filename=transformers-4.7.0.dev0-cp37-none-any.whl size=2308937 sha256=e8a50613efa769c1759e99b4cae03dbfe4206fda7f19184ef5f28be7e02c42e2\n",
            "  Stored in directory: /tmp/pip-ephem-wheel-cache-nxbzmnaw/wheels/33/eb/3b/4bf5dd835e865e472d4fc0754f35ac0edb08fe852e8f21655f\n",
            "Successfully built transformers\n",
            "Building wheels for collected packages: seqeval\n",
            "  Building wheel for seqeval (setup.py) ... \u001b[?25l\u001b[?25hdone\n",
            "  Created wheel for seqeval: filename=seqeval-1.2.2-cp37-none-any.whl size=16172 sha256=dea906ea2ece398c2b830918d556e8a8f2cf4ca14c940618875ef5b14940933c\n",
            "  Stored in directory: /root/.cache/pip/wheels/52/df/1b/45d75646c37428f7e626214704a0e35bd3cfc32eda37e59e5f\n",
            "Successfully built seqeval\n",
            "Installing collected packages: seqeval, huggingface-hub, tokenizers, sacremoses, transformers\n",
            "Successfully installed huggingface-hub-0.0.8 sacremoses-0.0.45 seqeval-1.2.2 tokenizers-0.10.2 transformers-4.7.0.dev0\n"
          ],
          "name": "stdout"
        }
      ]
    },
    {
      "cell_type": "code",
      "metadata": {
        "id": "GO4-gR8iDEEz"
      },
      "source": [
        "import unicodedata\n",
        "\n",
        "import numpy as np\n",
        "import seqeval.metrics\n",
        "import spacy\n",
        "import torch\n",
        "from tqdm import tqdm, trange\n",
        "from transformers import LukeTokenizer, LukeForEntitySpanClassification"
      ],
      "execution_count": 38,
      "outputs": []
    },
    {
      "cell_type": "code",
      "metadata": {
        "colab": {
          "base_uri": "https://localhost:8080/",
          "height": 458,
          "referenced_widgets": [
            "a034adeca2304e0791bb908669611ffd",
            "5353c462ad9e4810b44689684a934f28",
            "eec5f71120104055a9f0df8b8c1ae45c",
            "fa51097265954679af43ace555e601ae",
            "245a17b172494c6e9e2fc1a1819ec635",
            "35e716a4107e4015873420de79c040b1",
            "c0c0705ce2bf4abf8f9f89d323144bcf",
            "8b9740721fab4022ba4279e1ee051be6",
            "e3e0cf3eaf1247749fec2e2a3be813ae",
            "2e3647580b4d4bb48f47bd5233756383",
            "18d5080f10be4d9d8497ce8b79bee129",
            "6ec7a02dbd904cc4bb31d6ee2e640a24",
            "27f86d9b999840cebf56ce3cfb1df6c2",
            "f6b015dda78e425f8d2e2709460d4edc",
            "c14cb997d523473493a60a6430784c28",
            "ee70a6ba5933497e937bdfc7288f901c",
            "7575cc7628fc432189cfab2f80ab6057",
            "059644d1bd04457a80cb2a9351895012",
            "5c32f4a043894a56ac7411693a81fe1c",
            "8fbb26ea3c6f46d4a351dfaf18f6f321",
            "1c71d158ca764ba18d5243b8475a9883",
            "9906afe379404e829e09af2fb591917b",
            "95046dd3f97f49dfbcc59dd3c5b0ee8f",
            "b47cf4dd7a6a4b1d954c1dd006eea04d",
            "aa4f371882694441a89c7606721f7f2e",
            "cb6ec0f7fdbb43cb9fec9c7a65f3b7fb",
            "b24beb5d35dc4c31b4b573e5950acb2e",
            "304fed72ca544de998c1d02120f83296",
            "dd5fd3a4ce7b49fdaf721f0f13e21179",
            "71244a38ee1a45c5b04e3485b5b3ee1f",
            "71621da126094c899f8e6a210bb181a1",
            "c640c9a5cf054853aa0842f3defa9239",
            "a34276a5effc412b806c339bac1ec808",
            "1776184a865549f79d4dcb29d0e7ee66",
            "f43a743993e1415baf716663ecd350d4",
            "51f65428d186446794dfaf80daa4a34a",
            "bc7cf5f9c8ec4b70954e7fcf53cb6f20",
            "26032bcbf4034b09ab2ecbfb7f4a9bfd",
            "5a4202412a9147d68cc60ef91f6c345b",
            "0d90a8a11c884534ae10c7f467e4b65e",
            "88912e48eeb3448583361af6a55ea943",
            "482d6e6c726b45d5bf7ab0c7007f18af",
            "d91da1a621d545f790771b63794dde7f",
            "797850feab504582b2331aaca7c4e912",
            "3cd0bd87f5e84864985e0cf8be1c1879",
            "4e6344a339e74ac6af6646a7279b4e25",
            "cf2ac642122d46b49a36da9a76a96067",
            "bf23c737d0bc474f8e12ea0bd5938b72",
            "d96380294548410b843f6f66d44c4746",
            "f5e288b8df494cd2b3119e9f38fe7c05",
            "a19aeb02db3749c199f4b4db10b19572",
            "3dd7b6e6a3aa4e6e8c2ef3957d94876a",
            "ef0b9b2090984b34bf456edfe19d6887",
            "a639bafebb0b42ca89bb7a3cdbbaf117",
            "a53752d98b214184b971677767d211a0",
            "55484f7cfa994d8993ee9e0d3bc8c896",
            "649df03fac444d2b9f489669b0f733be",
            "3a474aa1e3544fc1875e6a4f14feabfe",
            "66bfc7aeb16748b0a770a71597ad9949",
            "99c51eb6002a403dbcc29f67f72da483",
            "280960dd5efb471d8ef936853d72b97b",
            "dfa70f0060a54988927a64f8a0adaeaf",
            "9a3473067f56474eb01bb2f5fbae94e0",
            "637cdaae1d624ef09752c2148df76626"
          ]
        },
        "id": "0RAhxcFDHlLC",
        "outputId": "324f2771-dbd3-457d-fade-18f370c61f6b"
      },
      "source": [
        "# Load the model checkpoint\n",
        "model = LukeForEntitySpanClassification.from_pretrained(\"studio-ousia/luke-large-finetuned-conll-2003\")\n",
        "model.eval()\n",
        "model.to(\"cuda\")\n",
        "\n",
        "# Load the tokenizer\n",
        "tokenizer = LukeTokenizer.from_pretrained(\"studio-ousia/luke-large-finetuned-conll-2003\")"
      ],
      "execution_count": 39,
      "outputs": [
        {
          "output_type": "display_data",
          "data": {
            "application/vnd.jupyter.widget-view+json": {
              "model_id": "a034adeca2304e0791bb908669611ffd",
              "version_minor": 0,
              "version_major": 2
            },
            "text/plain": [
              "HBox(children=(FloatProgress(value=0.0, description='Downloading', max=877.0, style=ProgressStyle(description_…"
            ]
          },
          "metadata": {
            "tags": []
          }
        },
        {
          "output_type": "stream",
          "text": [
            "\n"
          ],
          "name": "stdout"
        },
        {
          "output_type": "display_data",
          "data": {
            "application/vnd.jupyter.widget-view+json": {
              "model_id": "e3e0cf3eaf1247749fec2e2a3be813ae",
              "version_minor": 0,
              "version_major": 2
            },
            "text/plain": [
              "HBox(children=(FloatProgress(value=0.0, description='Downloading', max=2239184431.0, style=ProgressStyle(descr…"
            ]
          },
          "metadata": {
            "tags": []
          }
        },
        {
          "output_type": "stream",
          "text": [
            "\n"
          ],
          "name": "stdout"
        },
        {
          "output_type": "stream",
          "text": [
            "Some weights of the model checkpoint at studio-ousia/luke-large-finetuned-conll-2003 were not used when initializing LukeForEntitySpanClassification: ['luke.embeddings.position_ids']\n",
            "- This IS expected if you are initializing LukeForEntitySpanClassification from the checkpoint of a model trained on another task or with another architecture (e.g. initializing a BertForSequenceClassification model from a BertForPreTraining model).\n",
            "- This IS NOT expected if you are initializing LukeForEntitySpanClassification from the checkpoint of a model that you expect to be exactly identical (initializing a BertForSequenceClassification model from a BertForSequenceClassification model).\n"
          ],
          "name": "stderr"
        },
        {
          "output_type": "display_data",
          "data": {
            "application/vnd.jupyter.widget-view+json": {
              "model_id": "7575cc7628fc432189cfab2f80ab6057",
              "version_minor": 0,
              "version_major": 2
            },
            "text/plain": [
              "HBox(children=(FloatProgress(value=0.0, description='Downloading', max=898822.0, style=ProgressStyle(descripti…"
            ]
          },
          "metadata": {
            "tags": []
          }
        },
        {
          "output_type": "stream",
          "text": [
            "\n"
          ],
          "name": "stdout"
        },
        {
          "output_type": "display_data",
          "data": {
            "application/vnd.jupyter.widget-view+json": {
              "model_id": "aa4f371882694441a89c7606721f7f2e",
              "version_minor": 0,
              "version_major": 2
            },
            "text/plain": [
              "HBox(children=(FloatProgress(value=0.0, description='Downloading', max=456318.0, style=ProgressStyle(descripti…"
            ]
          },
          "metadata": {
            "tags": []
          }
        },
        {
          "output_type": "stream",
          "text": [
            "\n"
          ],
          "name": "stdout"
        },
        {
          "output_type": "display_data",
          "data": {
            "application/vnd.jupyter.widget-view+json": {
              "model_id": "a34276a5effc412b806c339bac1ec808",
              "version_minor": 0,
              "version_major": 2
            },
            "text/plain": [
              "HBox(children=(FloatProgress(value=0.0, description='Downloading', max=15287192.0, style=ProgressStyle(descrip…"
            ]
          },
          "metadata": {
            "tags": []
          }
        },
        {
          "output_type": "stream",
          "text": [
            "\n"
          ],
          "name": "stdout"
        },
        {
          "output_type": "display_data",
          "data": {
            "application/vnd.jupyter.widget-view+json": {
              "model_id": "88912e48eeb3448583361af6a55ea943",
              "version_minor": 0,
              "version_major": 2
            },
            "text/plain": [
              "HBox(children=(FloatProgress(value=0.0, description='Downloading', max=33.0, style=ProgressStyle(description_w…"
            ]
          },
          "metadata": {
            "tags": []
          }
        },
        {
          "output_type": "stream",
          "text": [
            "\n"
          ],
          "name": "stdout"
        },
        {
          "output_type": "display_data",
          "data": {
            "application/vnd.jupyter.widget-view+json": {
              "model_id": "d96380294548410b843f6f66d44c4746",
              "version_minor": 0,
              "version_major": 2
            },
            "text/plain": [
              "HBox(children=(FloatProgress(value=0.0, description='Downloading', max=1000.0, style=ProgressStyle(description…"
            ]
          },
          "metadata": {
            "tags": []
          }
        },
        {
          "output_type": "stream",
          "text": [
            "\n"
          ],
          "name": "stdout"
        },
        {
          "output_type": "display_data",
          "data": {
            "application/vnd.jupyter.widget-view+json": {
              "model_id": "649df03fac444d2b9f489669b0f733be",
              "version_minor": 0,
              "version_major": 2
            },
            "text/plain": [
              "HBox(children=(FloatProgress(value=0.0, description='Downloading', max=1695.0, style=ProgressStyle(description…"
            ]
          },
          "metadata": {
            "tags": []
          }
        },
        {
          "output_type": "stream",
          "text": [
            "\n"
          ],
          "name": "stdout"
        }
      ]
    },
    {
      "cell_type": "code",
      "metadata": {
        "id": "4KlzQqGmmVEe"
      },
      "source": [
        "def load_documents(dataset_file):\n",
        "    documents = []\n",
        "    words = []\n",
        "    labels = []\n",
        "    sentence_boundaries = []\n",
        "    with open(dataset_file) as f:\n",
        "        for line in f:\n",
        "            line = line.rstrip()\n",
        "            if line.startswith(\"-DOCSTART\"):\n",
        "                if words:\n",
        "                    documents.append(dict(\n",
        "                        words=words,\n",
        "                        labels=labels,\n",
        "                        sentence_boundaries=sentence_boundaries\n",
        "                    ))\n",
        "                    words = []\n",
        "                    labels = []\n",
        "                    sentence_boundaries = []\n",
        "                continue\n",
        "\n",
        "            if not line:\n",
        "                if not sentence_boundaries or len(words) != sentence_boundaries[-1]:\n",
        "                    sentence_boundaries.append(len(words))\n",
        "            else:\n",
        "                items = line.split(\" \")\n",
        "                words.append(items[0])\n",
        "                labels.append(items[-1])\n",
        "\n",
        "    if words:\n",
        "        documents.append(dict(\n",
        "            words=words,\n",
        "            labels=labels,\n",
        "            sentence_boundaries=sentence_boundaries\n",
        "        ))\n",
        "        \n",
        "    return documents\n",
        "\n",
        "\n",
        "def load_examples(documents):\n",
        "    examples = []\n",
        "    max_token_length = 510\n",
        "    max_mention_length = 30\n",
        "\n",
        "    for document in tqdm(documents):\n",
        "        words = document[\"words\"]\n",
        "        subword_lengths = [len(tokenizer.tokenize(w)) for w in words]\n",
        "        total_subword_length = sum(subword_lengths)\n",
        "        sentence_boundaries = document[\"sentence_boundaries\"]\n",
        "\n",
        "        for i in range(len(sentence_boundaries) - 1):\n",
        "            sentence_start, sentence_end = sentence_boundaries[i:i+2]\n",
        "            if total_subword_length <= max_token_length:\n",
        "                # if the total sequence length of the document is shorter than the\n",
        "                # maximum token length, we simply use all words to build the sequence\n",
        "                context_start = 0\n",
        "                context_end = len(words)\n",
        "            else:\n",
        "                # if the total sequence length is longer than the maximum length, we add\n",
        "                # the surrounding words of the target sentence　to the sequence until it\n",
        "                # reaches the maximum length\n",
        "                context_start = sentence_start\n",
        "                context_end = sentence_end\n",
        "                cur_length = sum(subword_lengths[context_start:context_end])\n",
        "                while True:\n",
        "                    if context_start > 0:\n",
        "                        if cur_length + subword_lengths[context_start - 1] <= max_token_length:\n",
        "                            cur_length += subword_lengths[context_start - 1]\n",
        "                            context_start -= 1\n",
        "                        else:\n",
        "                            break\n",
        "                    if context_end < len(words):\n",
        "                        if cur_length + subword_lengths[context_end] <= max_token_length:\n",
        "                            cur_length += subword_lengths[context_end]\n",
        "                            context_end += 1\n",
        "                        else:\n",
        "                            break\n",
        "\n",
        "            text = \"\"\n",
        "            for word in words[context_start:sentence_start]:\n",
        "                if word[0] == \"'\" or (len(word) == 1 and is_punctuation(word)):\n",
        "                    text = text.rstrip()\n",
        "                text += word\n",
        "                text += \" \"\n",
        "\n",
        "            sentence_words = words[sentence_start:sentence_end]\n",
        "            sentence_subword_lengths = subword_lengths[sentence_start:sentence_end]\n",
        "\n",
        "            word_start_char_positions = []\n",
        "            word_end_char_positions = []\n",
        "            for word in sentence_words:\n",
        "                if word[0] == \"'\" or (len(word) == 1 and is_punctuation(word)):\n",
        "                    text = text.rstrip()\n",
        "                word_start_char_positions.append(len(text))\n",
        "                text += word\n",
        "                word_end_char_positions.append(len(text))\n",
        "                text += \" \"\n",
        "\n",
        "            for word in words[sentence_end:context_end]:\n",
        "                if word[0] == \"'\" or (len(word) == 1 and is_punctuation(word)):\n",
        "                    text = text.rstrip()\n",
        "                text += word\n",
        "                text += \" \"\n",
        "            text = text.rstrip()\n",
        "\n",
        "            entity_spans = []\n",
        "            original_word_spans = []\n",
        "            for word_start in range(len(sentence_words)):\n",
        "                for word_end in range(word_start, len(sentence_words)):\n",
        "                    if sum(sentence_subword_lengths[word_start:word_end]) <= max_mention_length:\n",
        "                        entity_spans.append(\n",
        "                            (word_start_char_positions[word_start], word_end_char_positions[word_end])\n",
        "                        )\n",
        "                        original_word_spans.append(\n",
        "                            (word_start, word_end + 1)\n",
        "                        )\n",
        "\n",
        "            examples.append(dict(\n",
        "                text=text,\n",
        "                words=sentence_words,\n",
        "                entity_spans=entity_spans,\n",
        "                original_word_spans=original_word_spans,\n",
        "            ))\n",
        "\n",
        "    return examples\n",
        "\n",
        "\n",
        "def is_punctuation(char):\n",
        "    cp = ord(char)\n",
        "    if (cp >= 33 and cp <= 47) or (cp >= 58 and cp <= 64) or (cp >= 91 and cp <= 96) or (cp >= 123 and cp <= 126):\n",
        "        return True\n",
        "    cat = unicodedata.category(char)\n",
        "    if cat.startswith(\"P\"):\n",
        "        return True\n",
        "    return False\n",
        "\n",
        "test_documents = load_documents(\"eng.testa\")\n",
        "test_examples = load_examples(test_documents)"
      ],
      "execution_count": null,
      "outputs": []
    },
    {
      "cell_type": "code",
      "metadata": {
        "colab": {
          "base_uri": "https://localhost:8080/"
        },
        "id": "VaMQPrbzi07T",
        "outputId": "5f594edf-1cb1-4a97-beab-0671d1d0483a"
      },
      "source": [
        "batch_size = 2\n",
        "all_logits = []\n",
        "\n",
        "for batch_start_idx in trange(0, len(test_examples), batch_size):\n",
        "    batch_examples = test_examples[batch_start_idx:batch_start_idx + batch_size]\n",
        "    texts = [example[\"text\"] for example in batch_examples]\n",
        "    entity_spans = [example[\"entity_spans\"] for example in batch_examples]\n",
        "\n",
        "    inputs = tokenizer(texts, entity_spans=entity_spans, return_tensors=\"pt\", padding=True)\n",
        "    inputs = inputs.to(\"cuda\")\n",
        "    with torch.no_grad():\n",
        "        outputs = model(**inputs)\n",
        "    all_logits.extend(outputs.logits.tolist())"
      ],
      "execution_count": 53,
      "outputs": [
        {
          "output_type": "stream",
          "text": [
            "100%|██████████| 1625/1625 [12:10<00:00,  2.22it/s]\n"
          ],
          "name": "stderr"
        }
      ]
    },
    {
      "cell_type": "code",
      "metadata": {
        "id": "LSxhh7Vwl4eQ"
      },
      "source": [
        "final_labels = [label for document in test_documents for label in document[\"labels\"]]\n",
        "\n",
        "final_predictions = []\n",
        "for example_index, example in enumerate(test_examples):\n",
        "    logits = all_logits[example_index]\n",
        "    max_logits = np.max(logits, axis=1)\n",
        "    max_indices = np.argmax(logits, axis=1)\n",
        "    original_spans = example[\"original_word_spans\"]\n",
        "    predictions = []\n",
        "    for logit, index, span in zip(max_logits, max_indices, original_spans):\n",
        "        if index != 0:  # the span is not NIL\n",
        "            predictions.append((logit, span, model.config.id2label[index]))\n",
        "\n",
        "    # construct an IOB2 label sequence\n",
        "    predicted_sequence = [\"O\"] * len(example[\"words\"])\n",
        "    for _, span, label in sorted(predictions, key=lambda o: o[0], reverse=True):\n",
        "        if all([o == \"O\" for o in predicted_sequence[span[0] : span[1]]]):\n",
        "            predicted_sequence[span[0]] = \"B-\" + label\n",
        "            if span[1] - span[0] > 1:\n",
        "                predicted_sequence[span[0] + 1 : span[1]] = [\"I-\" + label] * (span[1] - span[0] - 1)\n",
        "\n",
        "    final_predictions += predicted_sequence"
      ],
      "execution_count": 54,
      "outputs": []
    },
    {
      "cell_type": "code",
      "metadata": {
        "colab": {
          "base_uri": "https://localhost:8080/"
        },
        "id": "5wsoyI4-l5Rb",
        "outputId": "49a032f6-7077-4c35-ceb4-83c58b316953"
      },
      "source": [
        "print(seqeval.metrics.classification_report([final_labels], [final_predictions], digits=4)) "
      ],
      "execution_count": 55,
      "outputs": [
        {
          "output_type": "stream",
          "text": [
            "              precision    recall  f1-score   support\n",
            "\n",
            "         LOC     0.9780    0.9727    0.9753      1830\n",
            "        MISC     0.9157    0.9147    0.9152       914\n",
            "         ORG     0.9532    0.9567    0.9550      1341\n",
            "         PER     0.9826    0.9836    0.9831      1832\n",
            "\n",
            "   micro avg     0.9641    0.9635    0.9638      5917\n",
            "   macro avg     0.9574    0.9569    0.9571      5917\n",
            "weighted avg     0.9642    0.9635    0.9638      5917\n",
            "\n"
          ],
          "name": "stdout"
        }
      ]
    }
  ]
}